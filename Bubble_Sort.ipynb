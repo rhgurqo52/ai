{
  "nbformat": 4,
  "nbformat_minor": 0,
  "metadata": {
    "colab": {
      "name": "Bubble_Sort",
      "provenance": [],
      "collapsed_sections": [],
      "include_colab_link": true
    },
    "kernelspec": {
      "name": "python3",
      "display_name": "Python 3"
    },
    "language_info": {
      "name": "python"
    }
  },
  "cells": [
    {
      "cell_type": "markdown",
      "metadata": {
        "id": "view-in-github",
        "colab_type": "text"
      },
      "source": [
        "<a href=\"https://colab.research.google.com/github/rhgurqo52/ai/blob/main/Bubble_Sort.ipynb\" target=\"_parent\"><img src=\"https://colab.research.google.com/assets/colab-badge.svg\" alt=\"Open In Colab\"/></a>"
      ]
    },
    {
      "cell_type": "code",
      "execution_count": null,
      "metadata": {
        "colab": {
          "base_uri": "https://localhost:8080/"
        },
        "id": "sQL8tLNZ_Bjb",
        "outputId": "fb48e31c-ab0f-4bb5-d892-2bc0282dc620"
      },
      "outputs": [
        {
          "output_type": "stream",
          "name": "stdout",
          "text": [
            "[1, 2, 3, 4, 5]\n"
          ]
        }
      ],
      "source": [
        "# 단순 교환법 - 인접한 데이터를 교환하는 처리를 반복한다. \n",
        "# 0    1    2    3    4 index\n",
        "# 5    3    4    1    2 data\n",
        "# 1    2      3     4  |  5  모든 정렬이 완전히 이루어 졌다. \n",
        "\n",
        "arr = [5, 3, 4, 1, 2]\n",
        "\n",
        "for i in range(len(arr)):\n",
        "  # 1번째 for문 -> 5번 반복\n",
        "  for k in range(0, len(arr)-i-1):\n",
        "    # 2번째 for문\n",
        "    # ex.> i값이 0일경우 -> arr[0]을 제외한 다음 인덱스수만큼 돌려준다. arr[1]~arr[4]\n",
        "    if arr[k] > arr[k+1]:\n",
        "      # arr[k]값이 다음값보다 크면 앞 뒤 위치를 바꿔준다.\n",
        "      temp = arr[k] # temp : 임시 저장 공간 변수\n",
        "      arr[k] = arr[k+1]\n",
        "      arr[k+1] = temp\n",
        "      # ex.> 5 > 3 -> temp = 5 -> arr[k] = 3 -> arr[k+1] = 5\n",
        "\n",
        "print(arr)"
      ]
    },
    {
      "cell_type": "code",
      "source": [
        "# 단순 교환법 - 주석x\n",
        "\n",
        "arr = [5, 3, 4, 1, 2]\n",
        "\n",
        "for i in range(len(arr)):\n",
        "  for k in range(0, len(arr)-i-1):\n",
        "    if arr[k] > arr[k+1]:\n",
        "      temp = arr[k]\n",
        "      arr[k] = arr[k+1]\n",
        "      arr[k+1] = temp\n",
        "\n",
        "print(arr)"
      ],
      "metadata": {
        "colab": {
          "base_uri": "https://localhost:8080/"
        },
        "id": "DrKVwop8_fk7",
        "outputId": "7091dc23-27a8-41eb-d77f-53eb9039b2a1"
      },
      "execution_count": null,
      "outputs": [
        {
          "output_type": "stream",
          "name": "stdout",
          "text": [
            "[1, 2, 3, 4, 5]\n"
          ]
        }
      ]
    }
  ]
}