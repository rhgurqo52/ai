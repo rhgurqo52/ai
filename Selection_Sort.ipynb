{
  "nbformat": 4,
  "nbformat_minor": 0,
  "metadata": {
    "colab": {
      "name": "Selection_Sort",
      "provenance": [],
      "collapsed_sections": [],
      "include_colab_link": true
    },
    "kernelspec": {
      "name": "python3",
      "display_name": "Python 3"
    },
    "language_info": {
      "name": "python"
    }
  },
  "cells": [
    {
      "cell_type": "markdown",
      "metadata": {
        "id": "view-in-github",
        "colab_type": "text"
      },
      "source": [
        "<a href=\"https://colab.research.google.com/github/rhgurqo52/ai/blob/main/Selection_Sort.ipynb\" target=\"_parent\"><img src=\"https://colab.research.google.com/assets/colab-badge.svg\" alt=\"Open In Colab\"/></a>"
      ]
    },
    {
      "cell_type": "code",
      "execution_count": null,
      "metadata": {
        "colab": {
          "base_uri": "https://localhost:8080/"
        },
        "id": "ep9x2vg-W8bk",
        "outputId": "69feda7d-7136-4872-c3c1-c0ef902e81b4"
      },
      "outputs": [
        {
          "output_type": "stream",
          "name": "stdout",
          "text": [
            "[10, 11, 12, 13, 14]\n"
          ]
        }
      ],
      "source": [
        "# 단순 선택법 - 정렬되지 않은 데이터 중 가장 작은 데이터를 선택하여 맨 앞부터 순서대로\n",
        "# 0   1   2   3   4\n",
        "# 12  13  11  14  10\n",
        "# 10  11  12  13  14  <-- 정렬 끝\n",
        "\n",
        "arr = [12, 13, 11, 14, 10]\n",
        "\n",
        "i = 0\n",
        "while i<len(arr)-1:\n",
        "  # i를 0~4만큼 돌려준다.\n",
        "  indexMin = i\n",
        "  # i를 최솟값을 나타낼 변수에 대입한다.\n",
        "  k = i + 1\n",
        "  # k 변수 : 현재 인덱스번호(i)의 뒷번호을 알려주는 역할\n",
        "  while k<len(arr):\n",
        "    # k인덱스값~arr인덱스값만큼 돌려준다.\n",
        "    if arr[k] < arr[indexMin]:\n",
        "      indexMin = k\n",
        "      # ex.> 12 > 11 -> indexMin = 11\n",
        "    k = k + 1\n",
        "  temp = arr[i] # temp : 임시 저장 공간 변수\n",
        "  arr[i] = arr[indexMin]\n",
        "  arr[indexMin] = temp\n",
        "  # ex.> temp = 12 -> arr[k] = 11 -> arr[k+1] = 12\n",
        "  i = i + 1\n",
        "\n",
        "\n",
        "print(arr)"
      ]
    },
    {
      "cell_type": "code",
      "source": [
        "# 단순 선택법 (while문 버전)- 주석 X \n",
        "\n",
        "arr = [12, 13, 11, 14, 10]\n",
        "\n",
        "i = 0\n",
        "while i<len(arr)-1:\n",
        "  indexMin = i\n",
        "  k = i + 1\n",
        "  while k<len(arr):\n",
        "    if arr[k] < arr[indexMin]:\n",
        "      indexMin = k\n",
        "    k = k + 1\n",
        "  temp = arr[i]\n",
        "  arr[i] = arr[indexMin]\n",
        "  arr[indexMin] = temp\n",
        "  i = i + 1\n",
        "\n",
        "print(arr)"
      ],
      "metadata": {
        "colab": {
          "base_uri": "https://localhost:8080/"
        },
        "id": "ksOddy1Cu0Oj",
        "outputId": "b4fdab5b-7072-47ac-c893-800705973f3a"
      },
      "execution_count": null,
      "outputs": [
        {
          "output_type": "stream",
          "name": "stdout",
          "text": [
            "[10, 11, 12, 13, 14]\n"
          ]
        }
      ]
    },
    {
      "cell_type": "code",
      "source": [
        "# 단순 선택법 (for문 버전)- 주석 X\n",
        "\n",
        "arr = [12, 13, 11, 14, 10]\n",
        "\n",
        "for i in range(len(arr)):\n",
        "  min = arr[i]\n",
        "  for k in range(i, len(arr)):\n",
        "    if arr[k] < min:\n",
        "      temp = arr[k]\n",
        "      arr[k] = arr[i]\n",
        "      arr[i] = temp\n",
        "    \n",
        "print(arr)"
      ],
      "metadata": {
        "id": "fwvyzCoRDyds",
        "outputId": "bdd4750f-a12a-4833-d043-cc84c4ee5ebf",
        "colab": {
          "base_uri": "https://localhost:8080/"
        }
      },
      "execution_count": null,
      "outputs": [
        {
          "output_type": "stream",
          "name": "stdout",
          "text": [
            "[10, 11, 12, 13, 14]\n"
          ]
        }
      ]
    }
  ]
}