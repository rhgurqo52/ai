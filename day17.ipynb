{
  "nbformat": 4,
  "nbformat_minor": 0,
  "metadata": {
    "colab": {
      "name": "Day17",
      "provenance": [],
      "collapsed_sections": [],
      "include_colab_link": true
    },
    "kernelspec": {
      "name": "python3",
      "display_name": "Python 3"
    },
    "language_info": {
      "name": "python"
    }
  },
  "cells": [
    {
      "cell_type": "markdown",
      "metadata": {
        "id": "view-in-github",
        "colab_type": "text"
      },
      "source": [
        "<a href=\"https://colab.research.google.com/github/rhgurqo52/ai/blob/main/day17.ipynb\" target=\"_parent\"><img src=\"https://colab.research.google.com/assets/colab-badge.svg\" alt=\"Open In Colab\"/></a>"
      ]
    },
    {
      "cell_type": "code",
      "execution_count": null,
      "metadata": {
        "colab": {
          "base_uri": "https://localhost:8080/"
        },
        "id": "emypggIdX4zi",
        "outputId": "5c5e4bc1-d940-402f-a138-bfc5e13ec6ee"
      },
      "outputs": [
        {
          "output_type": "stream",
          "name": "stdout",
          "text": [
            "Enter your name : jieun\n",
            "Hello jieun\n"
          ]
        }
      ],
      "source": [
        "# Function ( subprograms )\n",
        "\n",
        "# Blocks of code which perform specific tasks and can be called upon at any time \n",
        "# in the program to run that code.\n",
        "\n",
        "# Advantages\n",
        "# - it can be used and reused at diffenent times during the program.\n",
        "# - it makes the program simpler to understand as the code is grouped together into chunks.\n",
        "\n",
        "def get_name(): #4\n",
        "  user_name = input('Enter your name : ') #5\n",
        "  return user_name  #6\n",
        "\n",
        "def print_Msg(user_name): #9\n",
        "  print('Hello', user_name) #10\n",
        "\n",
        "def main(): #2\n",
        "  user_name = get_name()  #3  #7\n",
        "  print_Msg(user_name)  #8\n",
        "\n",
        "main()  #1"
      ]
    },
    {
      "cell_type": "code",
      "source": [
        "def get_data(): #4\n",
        "  user_name = input('Enter your name : ') #5\n",
        "  user_age = int(input('Enter your age : '))  #6    # 20살일 경우\n",
        "  data_tuple = (user_name, user_age)  #7\n",
        "  return data_tuple #8\n",
        "\n",
        "def message(user_name, user_age):#11\n",
        "  if user_age <= 10:  #12(10살이하)\n",
        "    print('Hi', user_name)  #13\n",
        "  else: #13(10살이상)\n",
        "    print('Hello', user_name) #14\n",
        "\n",
        "def main(): #2\n",
        "  user_name, user_age = get_data()  #3 #9\n",
        "  message(user_name,user_age) #10 (#15)\n",
        "\n",
        "main()  #1\n",
        "\n",
        "# 4 5 6 7 8 11 12 13 14 2 3 9 10 (15) 1"
      ],
      "metadata": {
        "id": "KiLM0aMCagGk"
      },
      "execution_count": null,
      "outputs": []
    },
    {
      "cell_type": "code",
      "source": [
        "# 사용자에게 숫자를 입력하고 변수로 저장하도록 요청하는 하위 프로그램을 정의합니다.\n",
        "# '숫자' . 'num'을 사용할 다른 하위 프로그램을 정의하십시오.\n",
        "# Define a subprogram that will ask the user to enter a number and save it as the variable \n",
        "# 'num' . Define another subprogram that will use 'num\n",
        "\n",
        "def sub():\n",
        "  num = int(input('Enter a number : '))\n",
        "  sub2(num)\n",
        "\n",
        "def sub2(num):\n",
        "  cnt=0\n",
        "  for i in range(1,num+1):\n",
        "    cnt+=1\n",
        "  print(cnt)\n",
        "\n",
        "sub()"
      ],
      "metadata": {
        "colab": {
          "base_uri": "https://localhost:8080/"
        },
        "id": "I5NcmwbwagI1",
        "outputId": "2cebe14a-db74-4647-da22-84c716d52646"
      },
      "execution_count": null,
      "outputs": [
        {
          "output_type": "stream",
          "name": "stdout",
          "text": [
            "Enter a number : 5\n",
            "5\n"
          ]
        }
      ]
    },
    {
      "cell_type": "code",
      "source": [
        "def sub():\n",
        "  num = int(input('Enter a number : '))\n",
        "  sub2(num)\n",
        "\n",
        "def sub2(num):\n",
        "  cnt=0\n",
        "  for i in range(1,num+1):\n",
        "    cnt+=1\n",
        "  sub3(cnt)\n",
        "\n",
        "def sub3(cnt):\n",
        "  print(cnt)\n",
        "\n",
        "sub()"
      ],
      "metadata": {
        "colab": {
          "base_uri": "https://localhost:8080/"
        },
        "id": "x3SAe7S4kBp2",
        "outputId": "b0e3bb0b-4df1-486a-f72f-58802ec0b499"
      },
      "execution_count": null,
      "outputs": [
        {
          "output_type": "stream",
          "name": "stdout",
          "text": [
            "Enter a number : 5\n",
            "5\n"
          ]
        }
      ]
    },
    {
      "cell_type": "code",
      "source": [
        "# Define a subprogram  that will ask the user to  pick a low and a high  number, \n",
        "# and then  generate a random  number between those  two values and store it in  \n",
        "# a variable called  “comp_num”.  \n",
        "\n",
        "#Define another  subprogram that will  give the instruction \n",
        "# “I am  thinking of a number…”  and then ask the user to  guess the number \n",
        "# they  are thinking of.  \n",
        "\n",
        "#Define a third  subprogram that will  check to see \n",
        "# if the  comp_num is the same  as the user’s guess. If it  is, \n",
        "# it should display the  message “Correct, you  win”, \n",
        "#otherwise it should  keep looping, telling the  user if they are too low or  too high and asking them  to guess again \n",
        "#until they  guess correctly. \n",
        "\n",
        "# 사용자에게 낮은 숫자와 높은 숫자를 선택하도록 요청하는 하위 프로그램을 정의합니다.\n",
        "# 그런 다음 두 값 사이에 난수를 생성하고 저장합니다.\n",
        "# \"comp_num\"이라는 변수.\n",
        "\n",
        "# 명령을 제공할 다른 서브프로그램 정의\n",
        "# \"나는 숫자를 생각하고 있습니다...\"라고 말한 다음 사용자에게 숫자를 맞춰보라고 합니다.\n",
        "# 그들은 생각하고 있습니다.\n",
        "\n",
        "# 확인할 세 번째 하위 프로그램을 정의합니다.\n",
        "# comp_num이 사용자의 추측과 동일한 경우. 그렇다면,\n",
        "# \"맞습니다. 이겼습니다\"라는 메시지가 표시되어야 합니다.\n",
        "#그렇지 않으면 사용자에게 너무 낮거나 너무 높으면 계속해서 반복해서 추측하도록 요청해야 합니다.\n",
        "#정확히 추측할 때까지.\n"
      ],
      "metadata": {
        "id": "Rs5X6fnGklR8"
      },
      "execution_count": null,
      "outputs": []
    },
    {
      "cell_type": "code",
      "source": [
        "import random\n",
        "\n",
        "def pick():\n",
        "  low = int(input('pick a low number :'))\n",
        "  high = int(input('pick a high number :'))\n",
        "  comp_num = random.randint(low,high)\n",
        "  guess_num(comp_num)\n",
        "\n",
        "def guess_num(comp_num):\n",
        "  print('I am  thinking of a number…')\n",
        "  guess = int(input('guess the number :'))\n",
        "  check(guess,comp_num)\n",
        "\n",
        "def check(guess,comp_num):\n",
        "  if comp_num == guess:\n",
        "    res()\n",
        "  elif comp_num > guess:\n",
        "    print('too low')\n",
        "    guess_num(comp_num)\n",
        "  elif comp_num < guess:\n",
        "    print('too high')\n",
        "    guess_num(comp_num)\n",
        "\n",
        "def res():\n",
        "  print('Correct, you win')\n",
        "\n",
        "pick()"
      ],
      "metadata": {
        "colab": {
          "base_uri": "https://localhost:8080/"
        },
        "id": "5lZJ0RVQnMVP",
        "outputId": "ea7fe6ff-ce96-4b50-db68-ab045373728f"
      },
      "execution_count": null,
      "outputs": [
        {
          "output_type": "stream",
          "name": "stdout",
          "text": [
            "pick a low number :1\n",
            "pick a high number :3\n",
            "I am  thinking of a number…\n",
            "guess the number :2\n",
            "too low\n",
            "I am  thinking of a number…\n",
            "guess the number :3\n",
            "Correct, you win\n"
          ]
        }
      ]
    },
    {
      "cell_type": "code",
      "source": [
        "import random\n",
        "\n",
        "def pick_num():\n",
        "  low = int(input('Enter the bottom of the range : '))\n",
        "  high = int(input('Enter the top of the range : '))\n",
        "  comp_num = random.randint(low, high)\n",
        "  return comp_num\n",
        "\n",
        "def first_guess():\n",
        "  print('I am thinking of a number...')\n",
        "  guess = int(input('WHat am I thinking of : '))\n",
        "  return guess\n",
        "\n",
        "def check_answer(comp_num, guess):\n",
        "  try_again = True\n",
        "  while try_again == True:\n",
        "    if comp_num == guess:\n",
        "      print('Correct, you win')\n",
        "      try_again = False\n",
        "    elif comp_num > guess:\n",
        "      guess = int(input('too low, try again'))\n",
        "    else:\n",
        "      guess = int(input('too high, try again'))\n",
        "def main():\n",
        "  comp_num = pick_num()\n",
        "  guess = first_guess()\n",
        "  check_answer(comp_num, guess)\n",
        "main()"
      ],
      "metadata": {
        "colab": {
          "base_uri": "https://localhost:8080/"
        },
        "id": "IPyaJ_KzrBEp",
        "outputId": "5640e0e6-3472-40d2-83e0-fb5df166d63c"
      },
      "execution_count": null,
      "outputs": [
        {
          "output_type": "stream",
          "name": "stdout",
          "text": [
            "Enter the bottom of the range : 1\n",
            "Enter the top of the range : 4\n",
            "I am thinking of a number...\n",
            "WHat am I thinking of : 2\n",
            "too low, try again3\n",
            "too low, try again4\n",
            "Correct, you win\n"
          ]
        }
      ]
    }
  ]
}