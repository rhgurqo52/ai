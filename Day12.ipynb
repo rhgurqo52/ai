{
  "nbformat": 4,
  "nbformat_minor": 0,
  "metadata": {
    "colab": {
      "name": "Day12.ipynb",
      "provenance": [],
      "authorship_tag": "ABX9TyNzTumrfdOnplVfS3kM7yAp",
      "include_colab_link": true
    },
    "kernelspec": {
      "name": "python3",
      "display_name": "Python 3"
    },
    "language_info": {
      "name": "python"
    }
  },
  "cells": [
    {
      "cell_type": "markdown",
      "metadata": {
        "id": "view-in-github",
        "colab_type": "text"
      },
      "source": [
        "<a href=\"https://colab.research.google.com/github/rhgurqo52/ai/blob/main/Day12.ipynb\" target=\"_parent\"><img src=\"https://colab.research.google.com/assets/colab-badge.svg\" alt=\"Open In Colab\"/></a>"
      ]
    },
    {
      "cell_type": "code",
      "execution_count": 1,
      "metadata": {
        "colab": {
          "base_uri": "https://localhost:8080/"
        },
        "id": "CrLzZXeO5-l2",
        "outputId": "63894d59-dd65-463e-ca6a-f270804f59ea"
      },
      "outputs": [
        {
          "output_type": "stream",
          "name": "stdout",
          "text": [
            "3.14\n"
          ]
        }
      ],
      "source": [
        "# Maths\n",
        "num = 3.141592\n",
        "print(round(num,2)) # Display a number rounded to two decimal places."
      ]
    },
    {
      "cell_type": "code",
      "source": [
        "10**2\n",
        "# To the power of ..."
      ],
      "metadata": {
        "colab": {
          "base_uri": "https://localhost:8080/"
        },
        "id": "ahXC53NK7HtV",
        "outputId": "9762ae00-dfc8-46a4-f36d-f1801d2c64e2"
      },
      "execution_count": 2,
      "outputs": [
        {
          "output_type": "execute_result",
          "data": {
            "text/plain": [
              "100"
            ]
          },
          "metadata": {},
          "execution_count": 2
        }
      ]
    },
    {
      "cell_type": "code",
      "source": [
        "import math\n",
        "\n",
        "math.sqrt(100)\n",
        "\n",
        "# The square root of a number but you must have the line 'import math'\n",
        "# at the top of your program for this to work."
      ],
      "metadata": {
        "colab": {
          "base_uri": "https://localhost:8080/"
        },
        "id": "M7TvBtX37Q2X",
        "outputId": "1598d818-9acd-42c4-b907-0cbf68f1baec"
      },
      "execution_count": 3,
      "outputs": [
        {
          "output_type": "execute_result",
          "data": {
            "text/plain": [
              "10.0"
            ]
          },
          "metadata": {},
          "execution_count": 3
        }
      ]
    },
    {
      "cell_type": "code",
      "source": [
        "math.pi\n",
        "\n",
        "# Gives you pi to decimal places, but you must have the line 'import math'\n",
        "# at the top of your program for this to work."
      ],
      "metadata": {
        "colab": {
          "base_uri": "https://localhost:8080/"
        },
        "id": "8zixrdyB7xyd",
        "outputId": "7e002b54-c3f8-41c5-b1c7-02079f030e4f"
      },
      "execution_count": 4,
      "outputs": [
        {
          "output_type": "execute_result",
          "data": {
            "text/plain": [
              "3.141592653589793"
            ]
          },
          "metadata": {},
          "execution_count": 4
        }
      ]
    },
    {
      "cell_type": "code",
      "source": [
        "15 // 2\n",
        "# Whole number division. 15//2 gives the answer 7."
      ],
      "metadata": {
        "colab": {
          "base_uri": "https://localhost:8080/"
        },
        "id": "-ap1qF-_8E3F",
        "outputId": "45ad7c71-acf1-45b2-9a98-7067039be752"
      },
      "execution_count": 6,
      "outputs": [
        {
          "output_type": "execute_result",
          "data": {
            "text/plain": [
              "7"
            ]
          },
          "metadata": {},
          "execution_count": 6
        }
      ]
    },
    {
      "cell_type": "code",
      "source": [
        "15 % 2\n",
        "# Finds the remainder. 15 % 2 gives the answer 1.\n"
      ],
      "metadata": {
        "colab": {
          "base_uri": "https://localhost:8080/"
        },
        "id": "3jCB-FPC8VNN",
        "outputId": "a1ecb5f3-c418-48b4-8265-fe4a93061f8a"
      },
      "execution_count": 7,
      "outputs": [
        {
          "output_type": "execute_result",
          "data": {
            "text/plain": [
              "1"
            ]
          },
          "metadata": {},
          "execution_count": 7
        }
      ]
    },
    {
      "cell_type": "code",
      "source": [
        "# Ask the user to enter an integer that is over 500. work out the square root of\n",
        "# that number and display it to two decimal places.\n",
        "\n",
        "# (input) 'Enter a number over 500:'\n",
        "\n",
        "import math\n",
        "\n",
        "num = int(input('Enter a number over 500'))\n",
        "ans = math.sqrt(num)\n",
        "print(round(ans,2))"
      ],
      "metadata": {
        "colab": {
          "base_uri": "https://localhost:8080/"
        },
        "id": "6dEaDFIG8qi9",
        "outputId": "98e468c9-b5cb-435c-c542-e37892aca29e"
      },
      "execution_count": 8,
      "outputs": [
        {
          "output_type": "stream",
          "name": "stdout",
          "text": [
            "Enter a number over 500550\n",
            "23.45\n"
          ]
        }
      ]
    },
    {
      "cell_type": "code",
      "source": [
        "# Ask the user to enter the radius of a circle.\n",
        "# wokr out the area of the circle. (pi * radius**2)\n",
        "\n",
        "# (input) 'Enter the radius of the circle:'\n",
        "\n",
        "import math\n",
        "\n",
        "num = int(input('Enter the radius of the circle'))\n",
        "print(math.pi*num**2)"
      ],
      "metadata": {
        "colab": {
          "base_uri": "https://localhost:8080/"
        },
        "id": "cuLUXTbb-FYg",
        "outputId": "8361ebae-229e-4291-e897-8c51777214cd"
      },
      "execution_count": 9,
      "outputs": [
        {
          "output_type": "stream",
          "name": "stdout",
          "text": [
            "Enter the radius of the circle5\n",
            "78.53981633974483\n"
          ]
        }
      ]
    },
    {
      "cell_type": "code",
      "source": [
        "# Ask the user to enter two numbers. use whole number division to divide\n",
        "# the first number by the second and also work out the remainder and \n",
        "# display the answer in a user-friendly way...\n",
        "# if they enter 7 and 2 display '7 divided by 2 is 3 with 1 remaining\n",
        "\n",
        "# (input) 'Enter a first number:  7\n",
        "# (input) 'Enter a second number: 2\n",
        "\n",
        "# (output) 7 divided by 2 is 3 with 1 remaining\n",
        "\n",
        "n1 = int(input('Enter a number : '))\n",
        "n2 = int(input('Enter a number : '))\n",
        "\n",
        "a = n1 // n2\n",
        "b = n1 % n2 \n",
        "\n",
        "print(f'{n1} divided by {n2} is {a} with {b} remaining')"
      ],
      "metadata": {
        "colab": {
          "base_uri": "https://localhost:8080/"
        },
        "id": "osCWDE7M-_Ps",
        "outputId": "b73358f7-2906-4217-bc5d-c756d4377c91"
      },
      "execution_count": 10,
      "outputs": [
        {
          "output_type": "stream",
          "name": "stdout",
          "text": [
            "Enter a number : 7\n",
            "Enter a number : 2\n",
            "7 divided by 2 is 3 with 1 remaining\n"
          ]
        }
      ]
    },
    {
      "cell_type": "code",
      "source": [
        "# Display the following message:\n",
        "      # 1) Square\n",
        "      # 2) Triangle\n",
        "\n",
        "      # Enter a number :\n",
        "\n",
        "# if the user enters 1, then it should ask them for the length of one of its\n",
        "# sides and display the area. If they select 2, it should ask for the base and\n",
        "# height of the triangle and display the area. If they type in anything else,\n",
        "# it should give them a suitable error message. \n",
        "\n",
        "print('1) Square')\n",
        "print('2) Triangle')\n",
        "print()\n",
        "no = int(input('Enter a number:'))\n",
        "\n",
        "if no == 1:\n",
        "  side = int(input('Enter the length of one side: '))\n",
        "  area = side * side\n",
        "  print('The area of your chosen shape is', area)\n",
        "elif no == 2:\n",
        "  base = int(input('Enter the length of the base: '))\n",
        "  height = int(input('Enter the height of the triangle: '))\n",
        "  area = side * side\n",
        "  print('The area of your chosen shape is', area)\n",
        "else:\n",
        "  print('Incorrent option selected')"
      ],
      "metadata": {
        "colab": {
          "base_uri": "https://localhost:8080/"
        },
        "id": "vN5jPx8UAVbe",
        "outputId": "eeafd517-53ab-438d-b15b-aac5ad81c2c6"
      },
      "execution_count": 14,
      "outputs": [
        {
          "output_type": "stream",
          "name": "stdout",
          "text": [
            "1) Square\n",
            "2) Triangle\n",
            "\n",
            "Enter a number:2\n",
            "Enter the length of the base: 2\n",
            "Enter the height of the triangle: 2\n",
            "The area of your chosen shape is 16\n"
          ]
        }
      ]
    },
    {
      "cell_type": "code",
      "source": [
        "##################\n",
        "# For\n",
        "##################\n",
        "\n",
        "# The range function is often used in for loops and lists the starting number.\n",
        "# the ending number and can also include the steps\n",
        "\n",
        "# for i in range(start, stop, step)\n",
        "\n",
        "for i in range(0,5):\n",
        "  print(i)"
      ],
      "metadata": {
        "colab": {
          "base_uri": "https://localhost:8080/"
        },
        "id": "Mvmi1yGRA6gJ",
        "outputId": "eea65c9e-13be-4a83-fcc8-e3b02669b1b9"
      },
      "execution_count": 17,
      "outputs": [
        {
          "output_type": "stream",
          "name": "stdout",
          "text": [
            "0\n",
            "1\n",
            "2\n",
            "3\n",
            "4\n"
          ]
        }
      ]
    },
    {
      "cell_type": "code",
      "source": [
        "for i in range(0,5,1):\n",
        "  print(i)"
      ],
      "metadata": {
        "colab": {
          "base_uri": "https://localhost:8080/"
        },
        "id": "x6DlhZaBJKlh",
        "outputId": "285dc7f7-791b-4a62-822d-a47f7a980c21"
      },
      "execution_count": 18,
      "outputs": [
        {
          "output_type": "stream",
          "name": "stdout",
          "text": [
            "0\n",
            "1\n",
            "2\n",
            "3\n",
            "4\n"
          ]
        }
      ]
    },
    {
      "cell_type": "code",
      "source": [
        "for i in range(5):\n",
        "  print(i)"
      ],
      "metadata": {
        "colab": {
          "base_uri": "https://localhost:8080/"
        },
        "id": "t8XqxddsJQ9H",
        "outputId": "5c67e2db-dcff-4870-cfb9-680d963590c3"
      },
      "execution_count": 19,
      "outputs": [
        {
          "output_type": "stream",
          "name": "stdout",
          "text": [
            "0\n",
            "1\n",
            "2\n",
            "3\n",
            "4\n"
          ]
        }
      ]
    },
    {
      "cell_type": "code",
      "source": [
        "for i in range(10,1,-3):\n",
        "  print(i)"
      ],
      "metadata": {
        "colab": {
          "base_uri": "https://localhost:8080/"
        },
        "id": "iYlslHPXJWnF",
        "outputId": "208258f3-821c-4ec7-89e8-75fac750867e"
      },
      "execution_count": 20,
      "outputs": [
        {
          "output_type": "stream",
          "name": "stdout",
          "text": [
            "10\n",
            "7\n",
            "4\n"
          ]
        }
      ]
    },
    {
      "cell_type": "code",
      "source": [
        "no = [0,1,2,3,4]\n",
        "\n",
        "for i in no:\n",
        "  print(i)"
      ],
      "metadata": {
        "colab": {
          "base_uri": "https://localhost:8080/"
        },
        "id": "8Yw4ZuqSJgCx",
        "outputId": "7442f336-3ab4-42f3-fe22-aefdbc8c5959"
      },
      "execution_count": 21,
      "outputs": [
        {
          "output_type": "stream",
          "name": "stdout",
          "text": [
            "0\n",
            "1\n",
            "2\n",
            "3\n",
            "4\n"
          ]
        }
      ]
    },
    {
      "cell_type": "code",
      "source": [
        "# Ask the user to enter their name and then display their name three times.\n",
        "\n",
        "# Alter program, so that it will ask the user to enter their name and a number\n",
        "# and then display their name that number of times.\n",
        "\n",
        "name = input('your name??? >>')\n",
        "no = int(input('how many??? >>'))\n",
        "for i in range(no):\n",
        "  print(name)"
      ],
      "metadata": {
        "colab": {
          "base_uri": "https://localhost:8080/"
        },
        "id": "yltEuyWKJ4xq",
        "outputId": "b6839126-6f1f-4489-98bd-3c9a0b608ad5"
      },
      "execution_count": 25,
      "outputs": [
        {
          "output_type": "stream",
          "name": "stdout",
          "text": [
            "your name??? >>hk\n",
            "how many??? >>5\n",
            "hk\n",
            "hk\n",
            "hk\n",
            "hk\n",
            "hk\n"
          ]
        }
      ]
    },
    {
      "cell_type": "code",
      "source": [
        "# Ask the user to enter their name and \n",
        "# display each letter in their name on a separate line.\n",
        "\n",
        "name = input('Your name??? >>>')\n",
        "\n",
        "for i in name:\n",
        "  print(i)"
      ],
      "metadata": {
        "colab": {
          "base_uri": "https://localhost:8080/"
        },
        "id": "k5U9ENIQL_6a",
        "outputId": "5ecf8815-b545-4aee-d205-77d1f4e01131"
      },
      "execution_count": 26,
      "outputs": [
        {
          "output_type": "stream",
          "name": "stdout",
          "text": [
            "Your name??? >>>hyukbae\n",
            "h\n",
            "y\n",
            "u\n",
            "k\n",
            "b\n",
            "a\n",
            "e\n"
          ]
        }
      ]
    },
    {
      "cell_type": "code",
      "source": [
        "# Ask for a number below 50 and then count down from 50 to that number.\n",
        "# making sure you show the number they entered in the output.\n",
        "\n",
        "# 50 미만의 수를 입력 받아 50부터 거꾸로 카운트 다운하면서 숫자를 출력한다.\n",
        "# 입력한 숫자까지 출력하자.\n",
        "\n",
        "num = int(input(\"Enter num (not over 50) \"))\n",
        "for i in range(50,num-1,-1):\n",
        "    print(i)\n",
        "print('you entered',num)"
      ],
      "metadata": {
        "colab": {
          "base_uri": "https://localhost:8080/"
        },
        "id": "L0nEIyLtNDYb",
        "outputId": "3dd17509-232f-4536-e02b-fb24b78b1b55"
      },
      "execution_count": 30,
      "outputs": [
        {
          "output_type": "stream",
          "name": "stdout",
          "text": [
            "Enter num (not over 50) 30\n",
            "50\n",
            "49\n",
            "48\n",
            "47\n",
            "46\n",
            "45\n",
            "44\n",
            "43\n",
            "42\n",
            "41\n",
            "40\n",
            "39\n",
            "38\n",
            "37\n",
            "36\n",
            "35\n",
            "34\n",
            "33\n",
            "32\n",
            "31\n",
            "30\n",
            "you entered 30\n"
          ]
        }
      ]
    },
    {
      "cell_type": "code",
      "source": [
        "# Set a variable called total to 0. Ask the user to enter five numbers and after each\n",
        "# input ask them if they want that number included.\n",
        "# if they do. then add the number to the total.\n",
        "# after they have entered all five number, display the total\n",
        "\n",
        "# total 변수에 0을 설정하세요.\n",
        "# 5번 숫자를 입력하라고 반복 요청하고 숫자를 입력할때마다\n",
        "# 입력한 값을 total 에 더할 것인지 묻는다. 더하길 원하는 답을 하면 total 에 더하고\n",
        "# 아니면 더하지는 않는다. 5번 숫자를 입력하면 total 출력한다.\n",
        "\n",
        "total = 0\n",
        "for i in range(5):\n",
        "  num = int(input('Enter a number: '))\n",
        "  ans = input('Do you want this number included? (y/n)')\n",
        "  if ans == 'y':\n",
        "    total = total + num\n",
        "print(total)"
      ],
      "metadata": {
        "colab": {
          "base_uri": "https://localhost:8080/"
        },
        "id": "guDvrI26O6vC",
        "outputId": "4156237b-f783-42ee-c52c-f3938a7baf45"
      },
      "execution_count": 31,
      "outputs": [
        {
          "output_type": "stream",
          "name": "stdout",
          "text": [
            "Enter a number: 1\n",
            "Do you want this number included? (y/n)y\n",
            "Enter a number: 2\n",
            "Do you want this number included? (y/n)y\n",
            "Enter a number: 3\n",
            "Do you want this number included? (y/n)n\n",
            "Enter a number: 4\n",
            "Do you want this number included? (y/n) n\n",
            "Enter a number: 5\n",
            "Do you want this number included? (y/n)y\n",
            "8\n"
          ]
        }
      ]
    },
    {
      "cell_type": "code",
      "source": [
        "# Ask which direction the user wants to count (up or down).\n",
        "# if they select up. then ask them for the top number and then count from 1 to that number.\n",
        "# if they select down. ask them to enter a number below 20 and then count down from 20\n",
        "# to that number. if they entered some thing other than up or down.\n",
        "# display the message 'i dont understand'.\n",
        "\n",
        "# 사용자가 원하는 카운트 방향(위로 또는 아래로)을 묻고\n",
        "# 만약 up을 선택하면. 큰 수를 묻고 1부터 그 수까지 출력한다.\n",
        "# 만약 down을 선택하면, 20미만의 수를 묻고 20부터 그 수까지를 출력한다.\n",
        "# 업 또는 다운이 아닌 것을 선택하면 'i dont understand'.를 출력한다.\n",
        "\n",
        "direction = input('Do you want to count up or down? (u/d)')\n",
        "\n",
        "if direction == 'u':\n",
        "  num = int(input('What is the top number? '))\n",
        "  for i in range(1,num+1):\n",
        "    print(i)\n",
        "elif direction == 'd':\n",
        "  num = int(input('Enter a number below 20:'))\n",
        "  for i in range(20,num-1,-1):\n",
        "    print(i)\n",
        "else:\n",
        "  print(\"i don't understand\")"
      ],
      "metadata": {
        "colab": {
          "base_uri": "https://localhost:8080/"
        },
        "id": "8n-avFGTVTbV",
        "outputId": "38765b39-9674-4252-a13e-1909d68da56a"
      },
      "execution_count": 34,
      "outputs": [
        {
          "output_type": "stream",
          "name": "stdout",
          "text": [
            "Do you want to count up or down? (u/d)d\n",
            "Enter a number below 20:15\n",
            "20\n",
            "19\n",
            "18\n",
            "17\n",
            "16\n",
            "15\n"
          ]
        }
      ]
    },
    {
      "cell_type": "code",
      "source": [
        "# Ask how many people the user wants to invite to a party.\n",
        "# if they enter a number below 10, ask for the names and after each name display\n",
        "# '[name] has been invited'.\n",
        "# if they enter a number which is 10 or higher. display the message 'Too many people'\n",
        "\n",
        "# 파티에 몇 명을 초대할지 묻자.\n",
        "# 만약 10 미만으로 입력하면 그 숫자 만큼 이름을 묻고 '[name] has been invited'.를 출력한다.\n",
        "# 만약 10 이상으로 입력하면 'Too many people'을 출력한다.\n",
        "\n",
        "no = int(input('How many ???'))\n",
        "\n",
        "if no < 10:\n",
        "  for i in range(no):\n",
        "   name = input('Name ???')\n",
        "   print(name, 'has been invited')\n",
        "else:\n",
        "  print('Too many people')\n"
      ],
      "metadata": {
        "colab": {
          "base_uri": "https://localhost:8080/"
        },
        "id": "hERR22OmYxDF",
        "outputId": "9a6eae4d-949d-458a-cf9a-3fafaa8c631b"
      },
      "execution_count": 37,
      "outputs": [
        {
          "output_type": "stream",
          "name": "stdout",
          "text": [
            "How many ???3\n",
            "Name ???hyukbae\n",
            "hyukbae has been invited\n",
            "Name ???rick\n",
            "rick has been invited\n",
            "Name ???william\n",
            "william has been invited\n"
          ]
        }
      ]
    },
    {
      "cell_type": "code",
      "source": [
        "#############\n",
        "# While\n",
        "#############\n",
        "\n",
        "# A while loop allows code to be repeted an unknown number of times\n",
        "# as long as a condition is being met.\n",
        "# This may be 100 times. just the once or even never.\n",
        "# It is important, therefore, to make the correct cinditions are in place\n",
        "# to run the roop before it starts.\n",
        "\n",
        "\n",
        "total = 0\n",
        "\n",
        "while total < 100:\n",
        "  num = int(input('Enter a number:'))\n",
        "  total = total + num\n",
        "print('The total is', total)"
      ],
      "metadata": {
        "colab": {
          "base_uri": "https://localhost:8080/"
        },
        "id": "KeKbWfO5b0Tu",
        "outputId": "0e0a5472-14cc-4de7-8b76-ab1a0a90e9e3"
      },
      "execution_count": 38,
      "outputs": [
        {
          "output_type": "stream",
          "name": "stdout",
          "text": [
            "Enter a number:99\n",
            "Enter a number:10\n",
            "The total is 109\n"
          ]
        }
      ]
    },
    {
      "cell_type": "code",
      "source": [
        "# Set the total to 0 to start with. while the total is 50 or less.\n",
        "# ask the user to input a number. Add that number to the total and\n",
        "# print the message 'The total is...[total].\n",
        "# Stop the loop when the total is over 50.\n",
        "\n",
        "total = 0\n",
        "\n",
        "while total <= 50:\n",
        "  no = int(input('number ? >>>'))\n",
        "  total += no\n",
        "\n",
        "print('The total is....', total-no)\n"
      ],
      "metadata": {
        "colab": {
          "base_uri": "https://localhost:8080/"
        },
        "id": "km7ILgOCdZY3",
        "outputId": "9d9348ef-39a3-4ffe-fa42-c20955e8cf0b"
      },
      "execution_count": 42,
      "outputs": [
        {
          "output_type": "stream",
          "name": "stdout",
          "text": [
            "number ? >>>47\n",
            "number ? >>>53\n",
            "The total is.... 47\n"
          ]
        }
      ]
    }
  ]
}