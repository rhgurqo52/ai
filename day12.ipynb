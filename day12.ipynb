{
  "nbformat": 4,
  "nbformat_minor": 0,
  "metadata": {
    "colab": {
      "name": "Day12",
      "provenance": [],
      "collapsed_sections": [],
      "include_colab_link": true
    },
    "kernelspec": {
      "name": "python3",
      "display_name": "Python 3"
    },
    "language_info": {
      "name": "python"
    }
  },
  "cells": [
    {
      "cell_type": "markdown",
      "metadata": {
        "id": "view-in-github",
        "colab_type": "text"
      },
      "source": [
        "<a href=\"https://colab.research.google.com/github/rhgurqo52/ai/blob/main/day12.ipynb\" target=\"_parent\"><img src=\"https://colab.research.google.com/assets/colab-badge.svg\" alt=\"Open In Colab\"/></a>"
      ]
    },
    {
      "cell_type": "code",
      "execution_count": null,
      "metadata": {
        "colab": {
          "base_uri": "https://localhost:8080/"
        },
        "id": "1ILC3ULx4m8c",
        "outputId": "c294efcd-e0c6-4be4-ad47-00c88d3e6612"
      },
      "outputs": [
        {
          "output_type": "stream",
          "name": "stdout",
          "text": [
            "3.14\n"
          ]
        }
      ],
      "source": [
        "# Maths\n",
        "\n",
        "num = 3.141592\n",
        "print(round(num,2)) # Display a number rounded to two decimal places"
      ]
    },
    {
      "cell_type": "code",
      "source": [
        "10**2 # 거듭제곱\n",
        "# To the power of ..."
      ],
      "metadata": {
        "colab": {
          "base_uri": "https://localhost:8080/"
        },
        "id": "istqPTeU7MWP",
        "outputId": "baba79f5-f190-4cf3-f616-73c16b8042d4"
      },
      "execution_count": null,
      "outputs": [
        {
          "output_type": "execute_result",
          "data": {
            "text/plain": [
              "100"
            ]
          },
          "metadata": {},
          "execution_count": 2
        }
      ]
    },
    {
      "cell_type": "code",
      "source": [
        "import math\n",
        "\n",
        "math.sqrt(100)  # 제곱근\n",
        "# The square root of a number but you must have the line 'import math' \n",
        "# at the top of ypur program for this to work "
      ],
      "metadata": {
        "colab": {
          "base_uri": "https://localhost:8080/"
        },
        "id": "b9UtMGuE7MX3",
        "outputId": "f999f789-d1cd-4c8b-cd0b-5c52bbd20e6b"
      },
      "execution_count": null,
      "outputs": [
        {
          "output_type": "execute_result",
          "data": {
            "text/plain": [
              "10.0"
            ]
          },
          "metadata": {},
          "execution_count": 3
        }
      ]
    },
    {
      "cell_type": "code",
      "source": [
        "print(math.pi)\n",
        "\n",
        "# Gives you pi to decimal places, but you must have the line 'import math'\n",
        "# at the top of ypur program for this to work "
      ],
      "metadata": {
        "colab": {
          "base_uri": "https://localhost:8080/"
        },
        "id": "WEGEvbds7MaX",
        "outputId": "5b2132df-3b81-43f8-f35f-c6db0f184a0b"
      },
      "execution_count": null,
      "outputs": [
        {
          "output_type": "stream",
          "name": "stdout",
          "text": [
            "3.141592653589793\n"
          ]
        }
      ]
    },
    {
      "cell_type": "code",
      "source": [
        "15//2\n",
        "# Whole number division. 15//2 gives the answer 7"
      ],
      "metadata": {
        "colab": {
          "base_uri": "https://localhost:8080/"
        },
        "id": "wXeFsxQX775x",
        "outputId": "946636ba-5c57-47a3-d6a1-8d0c3b8df0bd"
      },
      "execution_count": null,
      "outputs": [
        {
          "output_type": "execute_result",
          "data": {
            "text/plain": [
              "7"
            ]
          },
          "metadata": {},
          "execution_count": 5
        }
      ]
    },
    {
      "cell_type": "code",
      "source": [
        "15 % 2\n",
        "# Finds the remainder. 15%2 gives the answer 1"
      ],
      "metadata": {
        "colab": {
          "base_uri": "https://localhost:8080/"
        },
        "id": "fI1V6uEF778D",
        "outputId": "9f4540b6-c157-4f72-dd73-57c840c0fe7f"
      },
      "execution_count": null,
      "outputs": [
        {
          "output_type": "execute_result",
          "data": {
            "text/plain": [
              "1"
            ]
          },
          "metadata": {},
          "execution_count": 6
        }
      ]
    },
    {
      "cell_type": "code",
      "source": [
        "#001\n",
        "# Ask the user to enter an integer that is over 500. Work out the \n",
        "# square root of that number and display it to two decimal places.\n",
        "\n",
        "# (input) 'Enter a number over 500:'\n",
        "\n",
        "num = int(input(\"Enter a number over 500 >>> \"))\n",
        "print(round(math.sqrt(num),2))"
      ],
      "metadata": {
        "colab": {
          "base_uri": "https://localhost:8080/"
        },
        "id": "DEPYEGDi8klc",
        "outputId": "ee43e3c1-2c67-40b8-e47d-ed4e855e9d83"
      },
      "execution_count": null,
      "outputs": [
        {
          "output_type": "stream",
          "name": "stdout",
          "text": [
            "Enter a number over 500 >>> 501\n",
            "22.38\n"
          ]
        }
      ]
    },
    {
      "cell_type": "code",
      "source": [
        "#002\n",
        "# Ask the user to enter the radius of a circle.\n",
        "# Work out the area of the circle. (pi * radius**2)\n",
        "\n",
        "# (input) 'Enter the radius of the circle : '\n",
        "\n",
        "num = int(input(\"Enter a radius of the circle\"))\n",
        "x = num**2\n",
        "print(math.pi *x)"
      ],
      "metadata": {
        "colab": {
          "base_uri": "https://localhost:8080/"
        },
        "id": "aWQpOVcc8knl",
        "outputId": "54ac4d1b-c7e3-4217-a6fa-b6dc452661a8"
      },
      "execution_count": null,
      "outputs": [
        {
          "output_type": "stream",
          "name": "stdout",
          "text": [
            "Enter a radius of the circle5\n",
            "78.53981633974483\n"
          ]
        }
      ]
    },
    {
      "cell_type": "code",
      "source": [
        "#003\n",
        "# Ask the user to enter two numbers. Use whole number division to divide\n",
        "# the first number by the second and also work out the remainder and \n",
        "# display the answer in a user-friendly way ...\n",
        "# if they enter 7 and 2 display'7 divided by 2 is 3 with 1 remaining'\n",
        "\n",
        "a = int(input(\"Enter a first number:\"))\n",
        "b = int(input(\"Enter a second number:\"))\n",
        "\n",
        "print(f'{a} divided by {b} is {a//b} with {a%b} remaining')"
      ],
      "metadata": {
        "colab": {
          "base_uri": "https://localhost:8080/"
        },
        "id": "UXqDsW8b-BFu",
        "outputId": "b9566013-4971-42c8-b033-fca76a7e90f5"
      },
      "execution_count": null,
      "outputs": [
        {
          "output_type": "stream",
          "name": "stdout",
          "text": [
            "Enter a first number:7\n",
            "Enter a second number:2\n",
            "7 divided by 2 is 3 with 1 remaining\n"
          ]
        }
      ]
    },
    {
      "cell_type": "code",
      "source": [
        "#004\n",
        "# if the user enters 1, then it should ask them for the length of one of its\n",
        "# sides and display the area. If they select 2, it should ask for the base and\n",
        "# height of the triangle and display the area. If they type in anything else,\n",
        "# it should give them a suitable error message.\n",
        "\n",
        "no = int(input(\"1) Square\\n2) Triangle\\n\\nEnter a number:\"))\n",
        "\n",
        "if no == 1:\n",
        "  side = int(input('Enter the length of one side : '))\n",
        "  area = side * side\n",
        "  print('The area of your chosen shape is', area)\n",
        "elif no == 2:\n",
        "  base = int(input('Enter the length of the base : '))\n",
        "  height = int(input('Enter the length of the height : '))\n",
        "  area = (base * height) / 2\n",
        "  print('The area of your chosen shape is', area)\n",
        "else:\n",
        "  print('Incorrect option selected')"
      ],
      "metadata": {
        "colab": {
          "base_uri": "https://localhost:8080/"
        },
        "id": "01iKgJrpACRh",
        "outputId": "0503c0df-3940-4497-938b-b55ce4bce633"
      },
      "execution_count": null,
      "outputs": [
        {
          "output_type": "stream",
          "name": "stdout",
          "text": [
            "1) Square\n",
            "2) Triangle\n",
            "\n",
            "Enter a number:2\n",
            "Enter the length of the base : 3\n",
            "Enter the length of the height : 2\n",
            "The area of your chosen shape is 3.0\n"
          ]
        }
      ]
    },
    {
      "cell_type": "code",
      "source": [
        "#########################################\n",
        "# For\n",
        "#########################################\n",
        "\n",
        "# The range function is often used in d=for loops and lists the starting number\n",
        "# the ending number and can also include the step\n",
        "\n",
        "# for i in range(start, stop, step)\n",
        "\n",
        "for i in range(0,5):\n",
        "  print(i)"
      ],
      "metadata": {
        "colab": {
          "base_uri": "https://localhost:8080/"
        },
        "id": "bM6m2IlcACTi",
        "outputId": "f1f4185e-cc62-40ba-d5c5-0c9f8c1945f2"
      },
      "execution_count": null,
      "outputs": [
        {
          "output_type": "stream",
          "name": "stdout",
          "text": [
            "0\n",
            "1\n",
            "2\n",
            "3\n",
            "4\n"
          ]
        }
      ]
    },
    {
      "cell_type": "code",
      "source": [
        "for i in range(5):\n",
        "  print(i)"
      ],
      "metadata": {
        "colab": {
          "base_uri": "https://localhost:8080/"
        },
        "id": "711U6X7nACVi",
        "outputId": "3a6d17ae-8794-4708-e3ed-e39b9b2ab0ba"
      },
      "execution_count": null,
      "outputs": [
        {
          "output_type": "stream",
          "name": "stdout",
          "text": [
            "0\n",
            "1\n",
            "2\n",
            "3\n",
            "4\n"
          ]
        }
      ]
    },
    {
      "cell_type": "code",
      "source": [
        "for i in range(10,1,-3):\n",
        "  print(i)"
      ],
      "metadata": {
        "colab": {
          "base_uri": "https://localhost:8080/"
        },
        "id": "CakEaYwbJWwK",
        "outputId": "3513109f-62f3-4f70-ac1f-18dda5d5c687"
      },
      "execution_count": null,
      "outputs": [
        {
          "output_type": "stream",
          "name": "stdout",
          "text": [
            "10\n",
            "7\n",
            "4\n"
          ]
        }
      ]
    },
    {
      "cell_type": "code",
      "source": [
        "no = [0,1,2,3,4]\n",
        "\n",
        "for i in no:\n",
        "  print(i)"
      ],
      "metadata": {
        "colab": {
          "base_uri": "https://localhost:8080/"
        },
        "id": "0Ktp_GIrJWyK",
        "outputId": "ec4a7f8d-2b0a-4c26-cdf3-fc314e6c90c4"
      },
      "execution_count": null,
      "outputs": [
        {
          "output_type": "stream",
          "name": "stdout",
          "text": [
            "0\n",
            "1\n",
            "2\n",
            "3\n",
            "4\n"
          ]
        }
      ]
    },
    {
      "cell_type": "code",
      "source": [
        "# Ask the user to enter their name and then display their name three times.\n",
        "\n",
        "# Alter program, so that it will ask the user to enter their name and a number\n",
        "# and then display their name that number of times.\n",
        "\n",
        "name = input(\"your name? >> \")\n",
        "no = int(input('how many? >>'))\n",
        "\n",
        "for i in range(no):\n",
        "  print(f'{i}번 : {name}')"
      ],
      "metadata": {
        "colab": {
          "base_uri": "https://localhost:8080/"
        },
        "id": "kt_ormmkJW0T",
        "outputId": "39d3b011-cf18-4623-ea1e-df05d7c18486"
      },
      "execution_count": null,
      "outputs": [
        {
          "output_type": "stream",
          "name": "stdout",
          "text": [
            ">jieun\n",
            "0번 : jieun\n",
            "1번 : jieun\n",
            "2번 : jieun\n"
          ]
        }
      ]
    },
    {
      "cell_type": "code",
      "source": [
        "# Ask the user to enter their name and \n",
        "# display each letter in their name on a separate line.\n",
        "\n",
        "name = input(\"your name? >> \")\n",
        "\n",
        "for i in name:\n",
        "  print(i)"
      ],
      "metadata": {
        "colab": {
          "base_uri": "https://localhost:8080/"
        },
        "id": "jeMQJfPe-BHw",
        "outputId": "f505740d-9978-4de1-dade-18d0bfc88dff"
      },
      "execution_count": null,
      "outputs": [
        {
          "output_type": "stream",
          "name": "stdout",
          "text": [
            "your name? >> jieun\n",
            "j\n",
            "i\n",
            "e\n",
            "u\n",
            "n\n"
          ]
        }
      ]
    },
    {
      "cell_type": "code",
      "source": [
        "# Ask for a number below 50 and then count down from 50 to that number,\n",
        "# making sure you show the number they entered in the output.\n",
        "\n",
        "# 50 미만의 수를 입력 받아 50 부터 거꾸로 카운 다운하면서 숫자를 출력한다. \n",
        "# 입력한 숫자까지 출력하자\n",
        "\n",
        "n = int(input('50 down>'))\n",
        "\n",
        "for i in range(50,n-1,-1):\n",
        "  print(i)"
      ],
      "metadata": {
        "colab": {
          "base_uri": "https://localhost:8080/"
        },
        "id": "6f8q0eU0-BJo",
        "outputId": "334d76f9-d377-453f-8bdc-6308454cc955"
      },
      "execution_count": null,
      "outputs": [
        {
          "output_type": "stream",
          "name": "stdout",
          "text": [
            "50 down>30\n",
            "50\n",
            "49\n",
            "48\n",
            "47\n",
            "46\n",
            "45\n",
            "44\n",
            "43\n",
            "42\n",
            "41\n",
            "40\n",
            "39\n",
            "38\n",
            "37\n",
            "36\n",
            "35\n",
            "34\n",
            "33\n",
            "32\n",
            "31\n",
            "30\n"
          ]
        }
      ]
    },
    {
      "cell_type": "code",
      "source": [
        "# Set a variable called total to 0. Ask the user to enter five numbers and after each \n",
        "# input ask them if they want that number included. \n",
        "# If they do, then add the number to the total.\n",
        "# After they have entered all five number, display the total.\n",
        "\n",
        "total=0\n",
        "\n",
        "for i in range(5):\n",
        "  n = int(input(\"Enter a number : \"))\n",
        "  ans = input('Do you want this number included? (y/n)')\n",
        "  if ans == 'y':\n",
        "    total+=n\n",
        "    \n",
        "print(total)"
      ],
      "metadata": {
        "colab": {
          "base_uri": "https://localhost:8080/"
        },
        "id": "O7FeBlQDOX6Q",
        "outputId": "4af04bcc-5639-447f-b0a7-b3948d3c1243"
      },
      "execution_count": null,
      "outputs": [
        {
          "output_type": "stream",
          "name": "stdout",
          "text": [
            "숫자 입력:1\n",
            "해당 번호가 포함되기를 원하십니까?no\n",
            "숫자 입력:1\n",
            "해당 번호가 포함되기를 원하십니까?no\n",
            "숫자 입력:2\n",
            "해당 번호가 포함되기를 원하십니까?no\n",
            "숫자 입력:3\n",
            "해당 번호가 포함되기를 원하십니까?no\n",
            "숫자 입력:5\n",
            "해당 번호가 포함되기를 원하십니까?yes\n",
            "5\n"
          ]
        }
      ]
    },
    {
      "cell_type": "code",
      "source": [
        "# Ask which direction the user wants to count (up or down).\n",
        "# If they select up, then ask them for the top number and then count from 1 to that number.  \n",
        "# If they select down, ask them to enter a number below 20 and then count down from 20\n",
        "# to that number. If they entered something other than up or down,\n",
        "# display the message 'i dont understand'.\n",
        "\n",
        "# 사용자가 원하는 카운트 방향(위로 또는 아래로)을 묻고\n",
        "# 만약 up을 선택하면,큰 수를 묻고 1부터 그 수까지 출력한다.\n",
        "# 만약 down을 선택하면 20미만의 수를 묻고 20부터 그 수까지를 출력한다. \n",
        "# 업 또는 다운이 아닌 것을 선택하면 'i dont understand'. 를 출력한다. \n",
        "\n",
        "\n",
        "direction = input('Do you wnat to count up or down? (u/d)')\n",
        "\n",
        "if direction == 'u':\n",
        "  num = int(input('What is the top number ? \" '))\n",
        "  for i in range(1, num+1):\n",
        "    print(i)\n",
        "elif direction == 'd':\n",
        "  num = int(input('Enter a number below 20 : '))\n",
        "  for i in range(20, num -1, -1):\n",
        "    print(i)\n",
        "else:\n",
        "  print('I dont understand')"
      ],
      "metadata": {
        "colab": {
          "base_uri": "https://localhost:8080/"
        },
        "id": "r5lvjsakOX-r",
        "outputId": "fa1199b8-3486-442e-c243-997d78c44386"
      },
      "execution_count": null,
      "outputs": [
        {
          "output_type": "stream",
          "name": "stdout",
          "text": [
            "Do you wnat to count up or down? (u/d)u\n",
            "What is the top number ? \" 10\n",
            "1\n",
            "2\n",
            "3\n",
            "4\n",
            "5\n",
            "6\n",
            "7\n",
            "8\n",
            "9\n",
            "10\n"
          ]
        }
      ]
    },
    {
      "cell_type": "code",
      "source": [
        "# Ask how many people the user wants to invite to a party.\n",
        "# If they enter a number below 10, ask for the names and after each name display\n",
        "# '[name] has been invited'. \n",
        "# If they enter a number which is 10 or higher, display the message 'Too many people'\n",
        "\n",
        "# 파티에 몇 명을 초대할지 묻자.\n",
        "# 만약 10 미만으로 입력하면 이름을 묻고  '[name] has been invited'.를 출력한다.\n",
        "# 만약 10 이상으로 입력하면 'Too many people'\n",
        "\n",
        "number = int(input(\"how many >>\"))\n",
        "\n",
        "if number < 10:\n",
        "  for i in range(number):\n",
        "    name = input('name>>')\n",
        "    print(f'{name} has been invited')\n",
        "elif number >= 10:\n",
        "  print(f'Too many people')"
      ],
      "metadata": {
        "colab": {
          "base_uri": "https://localhost:8080/"
        },
        "id": "OQRXVmR9OYAt",
        "outputId": "18c7a4b1-3544-4324-999e-61e86566ad89"
      },
      "execution_count": null,
      "outputs": [
        {
          "output_type": "stream",
          "name": "stdout",
          "text": [
            "how many >>2\n",
            "name>>d\n",
            "d has been invited\n",
            "name>>w\n",
            "w has been invited\n"
          ]
        }
      ]
    },
    {
      "cell_type": "code",
      "source": [
        "###################################################\n",
        "# While\n",
        "###################################################\n",
        "\n",
        "\n",
        "# A while loop allows code to be repeted an unknown number of times \n",
        "# as long as a condition is being met.\n",
        "# This may be 100 times, just the once or even never\n",
        "# It is important, therefore, to make sure the correct conditions are in place\n",
        "# to run the roop before it starts.\n",
        "\n",
        "total = 0\n",
        "\n",
        "while total < 100:\n",
        "  num = int(input('Enter a number : '))\n",
        "  total = total + num\n",
        "print('The total is', total)"
      ],
      "metadata": {
        "colab": {
          "base_uri": "https://localhost:8080/"
        },
        "id": "OksJ72QsOYDO",
        "outputId": "5b94c255-12a0-47e2-c391-ba263405eaa0"
      },
      "execution_count": null,
      "outputs": [
        {
          "output_type": "stream",
          "name": "stdout",
          "text": [
            "Enter a number : 99\n",
            "Enter a number : 1\n",
            "The total is 100\n"
          ]
        }
      ]
    },
    {
      "cell_type": "code",
      "source": [
        "# Set the total to 0 to start with. While the total is 50 or less,\n",
        "# ask the user to input a number. Add that number to the total and \n",
        "# print the message 'The total is....[total]. Stop the loop when the total is over 50. \n",
        "\n",
        "total = 0\n",
        "while total <= 50:\n",
        "  number = int(input('number ? >>>'))\n",
        "  total+=number\n",
        "\n",
        "print(f'the total is...{total-number}')"
      ],
      "metadata": {
        "colab": {
          "base_uri": "https://localhost:8080/"
        },
        "id": "nJr1SU8PdYut",
        "outputId": "19d5b5bd-bd8d-497c-e284-f05cd53b82af"
      },
      "execution_count": null,
      "outputs": [
        {
          "output_type": "stream",
          "name": "stdout",
          "text": [
            "number ? >>>40\n",
            "number ? >>>20\n",
            "the total is...40\n"
          ]
        }
      ]
    },
    {
      "cell_type": "code",
      "source": [
        ""
      ],
      "metadata": {
        "id": "p9B_mgQZeBS1"
      },
      "execution_count": null,
      "outputs": []
    }
  ]
}