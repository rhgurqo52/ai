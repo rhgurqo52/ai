{
  "nbformat": 4,
  "nbformat_minor": 0,
  "metadata": {
    "colab": {
      "name": "Algorithm5_Practice",
      "provenance": [],
      "collapsed_sections": [],
      "include_colab_link": true
    },
    "kernelspec": {
      "name": "python3",
      "display_name": "Python 3"
    },
    "language_info": {
      "name": "python"
    }
  },
  "cells": [
    {
      "cell_type": "markdown",
      "metadata": {
        "id": "view-in-github",
        "colab_type": "text"
      },
      "source": [
        "<a href=\"https://colab.research.google.com/github/rhgurqo52/ai/blob/main/Algorithm5_Practice.ipynb\" target=\"_parent\"><img src=\"https://colab.research.google.com/assets/colab-badge.svg\" alt=\"Open In Colab\"/></a>"
      ]
    },
    {
      "cell_type": "code",
      "source": [
        "# 단순 삽입법\n",
        "\n",
        "# 삽입하려는 데이터를 변수를 따로 하나 준비하여 대입한다. \n",
        "# 변수의 데이터를 이미 정렬된 데이터와 순서대로 비교한다. \n",
        "# 변수의 데이터보다 작은 데이터가 발견되면 그 뒤의 요소에 변수의 데이터를 삽입한다. \n",
        "# 0 1 2 3 4 \n",
        "# 5 3 4 1 2\n",
        "\n",
        "def insertion_sort(arr):\n",
        "  for i in range(1,len(arr)):\n",
        "    temp = arr[i] # ex.> temp가 5일경우\n",
        "    j = i-1 # ex.> j에 1이 담겨 arr[1]인 4부터 while문이 돌아간다.\n",
        "    while j>=0 and arr[j]>temp: # ex.> 5>4 이므로\n",
        "      arr[j+1] = arr[j] # ex.> [3,4,4,1,2,] 순으로 리스트에 담겨진채로 while문 종료\n",
        "      j-=1\n",
        "    arr[j+1] = temp # ex.> [3,4,5,1,2,] 완성\n",
        "    print(\"중간확인 >>>\",arr)  # arr 리스트 (중간 확인용)\n",
        "  return arr\n",
        "\n",
        "arr = [5, 3, 4, 1, 2]\n",
        "print(insertion_sort(arr))"
      ],
      "metadata": {
        "id": "H50I6fqUnESg",
        "colab": {
          "base_uri": "https://localhost:8080/"
        },
        "outputId": "4416bf39-43f0-4470-cccb-4bc1161c2d47"
      },
      "execution_count": null,
      "outputs": [
        {
          "output_type": "stream",
          "name": "stdout",
          "text": [
            "중간확인 >>> [3, 5, 4, 1, 2]\n",
            "중간확인 >>> [3, 4, 5, 1, 2]\n",
            "중간확인 >>> [1, 3, 4, 5, 2]\n",
            "중간확인 >>> [1, 2, 3, 4, 5]\n",
            "[1, 2, 3, 4, 5]\n"
          ]
        }
      ]
    },
    {
      "cell_type": "code",
      "source": [
        "# 단순 삽입법 - 주석 x\n",
        "\n",
        "def insertion_sort(arr):\n",
        "  for i in range(1,len(arr)):\n",
        "    temp = arr[i]\n",
        "    j = i-1\n",
        "    while j>=0 and arr[j]>temp:\n",
        "      arr[j+1] = arr[j]\n",
        "      j-=1\n",
        "    arr[j+1] = temp    \n",
        "  return arr\n",
        "\n",
        "arr = [5, 3, 4, 1, 2]\n",
        "print(insertion_sort(arr))"
      ],
      "metadata": {
        "id": "ef478Ly6BWY0"
      },
      "execution_count": null,
      "outputs": []
    },
    {
      "cell_type": "code",
      "source": [
        "####################################################################################################################\n",
        "# 퀵 정렬 quick sort\n",
        "\n",
        "# 데이터를 대소 그룹의 둘로 나누어 분해하여 전체를 정렬하는 방식의 알고리즘\n",
        "# 실행 속도가 빠른 것이 특징이다. \n",
        "\n",
        "# 5 3 7 6 8 4 1 2 9\n",
        "# --\n",
        "# 우선 정렬의 기준이 되는 공을 선택하자. 첫 번째 기준은 5번 공이다. \n",
        "\n",
        "# 기준 공 5보다 작은 공은 5의 앞으로 이동시키고 \n",
        "# 기준 공 5보다 콘 공은 5의 뒤로 이동 시킨다. \n",
        "            \n",
        "# 3 4 1 2    5    7 6 8 9\n",
        "#              --                 5  는 정렬된 상태\n",
        "\n",
        "# 1 2       3      4       5            6      7      8  9\n",
        "#            --              --                  --                3과 7이 정렬된 상태가 되었다. \n",
        "\n",
        "# 1  2  3  4  5  6  7  8  9   더이상 정렬이 필요하지 않은 4, 6 은 그대로 확정 되었고\n",
        "#                                  1,2    8,9 역시 위의 과정을 통해 정렬된 상태가 되었다. \n",
        "\n",
        "def quick_sort(arr):\n",
        "  if len(arr) <= 1: # 마지막 자리는 돌릴 필요가 없으므로 return 해준다.\n",
        "    return arr\n",
        "  down=[] # 기준값보다 작은 값들을 담아준다.\n",
        "  up=[]   # 기준값보다 큰 값들을 담아준다.\n",
        "  standard = arr[0] # 기준값을 지정하여 standard변수에 담아준다.\n",
        "  print(' 중간확인 >>> standard:',standard,'\\t',end='') # 기준값에 무엇이 담기는지 (중간 확인용)\n",
        "  for i in range(len(arr)): # arr리스트 크기만큼 돌려준다.\n",
        "    if arr[i] < standard:   # 기준값보다 작으면 dowun리스트에 담아준다.\n",
        "      down.append(arr[i])\n",
        "    elif arr[i] > standard: # 기준값보다 크면 up리스트에 담아준다.\n",
        "      up.append(arr[i])\n",
        "  print(f'down:{down} \\t up:{up}')  # down, up 리스트에 어떻게 담기는지(중간 확인용)\n",
        "  return quick_sort(down) + [standard] + quick_sort(up) # 재귀호출을 통해 게속해서 각각의 위치를 정렬해 나간다.\n",
        "\n",
        "\n",
        "arr = [5, 3, 7, 6, 8, 4, 1, 2, 9]\n",
        "print(quick_sort(arr))"
      ],
      "metadata": {
        "id": "iQDcAOK7nFEM",
        "colab": {
          "base_uri": "https://localhost:8080/"
        },
        "outputId": "97de6cc6-01d1-4daa-a845-7aaa80bb516b"
      },
      "execution_count": null,
      "outputs": [
        {
          "output_type": "stream",
          "name": "stdout",
          "text": [
            " 중간확인 >>> standard: 5 \tdown:[3, 4, 1, 2] \t up:[7, 6, 8, 9]\n",
            " 중간확인 >>> standard: 3 \tdown:[1, 2] \t up:[4]\n",
            " 중간확인 >>> standard: 1 \tdown:[] \t up:[2]\n",
            " 중간확인 >>> standard: 7 \tdown:[6] \t up:[8, 9]\n",
            " 중간확인 >>> standard: 8 \tdown:[] \t up:[9]\n",
            "[1, 2, 3, 4, 5, 6, 7, 8, 9]\n"
          ]
        }
      ]
    },
    {
      "cell_type": "code",
      "source": [
        "# 퀵 정렬 quick sort - 주석 x\n",
        "\n",
        "def quick_sort(arr):\n",
        "  if len(arr) <= 1: \n",
        "    return arr\n",
        "  down=[]\n",
        "  up=[]\n",
        "  standard = arr[0]\n",
        "  for i in range(len(arr)):\n",
        "    if arr[i] < standard:\n",
        "      down.append(arr[i])\n",
        "    elif arr[i] > standard:\n",
        "      up.append(arr[i])\n",
        "  return quick_sort(down) + [standard] + quick_sort(up)\n",
        "\n",
        "\n",
        "arr = [5, 3, 7, 6, 8, 4, 1, 2, 9]\n",
        "print(quick_sort(arr))"
      ],
      "metadata": {
        "colab": {
          "base_uri": "https://localhost:8080/"
        },
        "id": "XRk3j8yL4SEm",
        "outputId": "fafc71c8-0a45-4c4a-f388-49bb94bc933e"
      },
      "execution_count": null,
      "outputs": [
        {
          "output_type": "stream",
          "name": "stdout",
          "text": [
            "[1, 2, 3, 4, 5, 6, 7, 8, 9]\n"
          ]
        }
      ]
    },
    {
      "cell_type": "code",
      "source": [
        "####################################################################################################################\n",
        "# 에라토스테네스의 체\n",
        "# 소수를 찾아내는 알고리즘 (특정 범위의 수 중에서 소수를 찾는 알고리즘)\n",
        "# 소수는 2 이상의 정수 중 1과 그 수 자신으로만 나눌 수 있는 수\n",
        "# 소수는 나열되어 있는 구간이 불규칙하므로 임의로 찾기 어렵다.\n",
        "\n",
        "# 에라토스테네스의 체는 '그 수의 제곱근보다 작은 소수의 배수를 없애면 남은 수가 소수다.' 라는 생각을 바탕으로 소수를 찾는 방법을 말한다.\n",
        "\n",
        "n = int(input(\"에라토스테네스의 체>>>>\"))\n",
        "a=[True] * (n+1)\n",
        "m = int(n ** 0.5)\n",
        "\n",
        "for i in range(2,m+1):  # 약수는 2부터 시작 ~ 입력받은 n의 제곱근값까지 돌려준다.\n",
        "    if a[i] == True:\n",
        "        for j in range(i+i,n+1,i):  # 들어오는 i의 값의 배수들은 False 처리\n",
        "            a[j]=False\n",
        "\n",
        "print([i for i in range(2, n+1) if a[i] == True]) # a리스트에서 Flase가 아닌값들을 출력해준다."
      ],
      "metadata": {
        "id": "nnaFlwtynFGc",
        "colab": {
          "base_uri": "https://localhost:8080/"
        },
        "outputId": "640ec290-26ef-4da4-ae42-76b5e59b8af6"
      },
      "execution_count": null,
      "outputs": [
        {
          "output_type": "stream",
          "name": "stdout",
          "text": [
            "에라토스테네스의 체>>>>100\n",
            "[2, 3, 5, 7, 11, 13, 17, 19, 23, 29, 31, 37, 41, 43, 47, 53, 59, 61, 67, 71, 73, 79, 83, 89, 97]\n"
          ]
        }
      ]
    },
    {
      "cell_type": "code",
      "source": [
        "# 에라토스테네스의 체 - 주석x\n",
        "\n",
        "n = int(input(\"에라토스테네스의 체>>>>\"))\n",
        "a=[True] * (n+1)\n",
        "m = int(n ** 0.5)\n",
        "\n",
        "for i in range(2,m+1):\n",
        "    if a[i] == True:\n",
        "        for j in range(i+i,n+1,i):\n",
        "            a[j]=False\n",
        "\n",
        "print([i for i in range(2, n+1) if a[i] == True])"
      ],
      "metadata": {
        "id": "Iy48BXkGnFIl"
      },
      "execution_count": null,
      "outputs": []
    },
    {
      "cell_type": "code",
      "execution_count": null,
      "metadata": {
        "colab": {
          "base_uri": "https://localhost:8080/"
        },
        "id": "7ljDrN_Jh9MZ",
        "outputId": "360afbd0-09ed-4f36-f7f0-26d5553d85d8"
      },
      "outputs": [
        {
          "output_type": "stream",
          "name": "stdout",
          "text": [
            "n1입력>>>221\n",
            "n2입력>>>143\n",
            "최대공약수 : 13\n"
          ]
        }
      ],
      "source": [
        "####################################################################################################################\n",
        "# 유클리드 알고리즘이란?\n",
        "# 두수의 나눗셈을 반복하여 최대 공약수를 구한다.\n",
        "\n",
        "# 12와 6의 최대 공약수\n",
        "\n",
        "# 12 % 6 = 0\n",
        "# # 나머지가 없이 딱 나누어 떨어지는데 사용된 수가 최대 공약수\n",
        "# 221 % 143 = 78\n",
        "#       143 % 78 = 65\n",
        "#             78 % 65 = 13\n",
        "#                  65 % 13 = 0  # 0이 나올때 나누어진 수 13이 바로 최대 공약수\n",
        "                 \n",
        "# 풀이 1\n",
        "def gcd(a, b):  # 입력값 a,b를 매개변수로 받아온다.\n",
        "    while b > 0:# b값이 0보다 클 경우에만 돌아간다.\n",
        "        x=a%b   # 변수x에 a%b의 나머지 값을 저장\n",
        "        a=b     # 변수a에 b의 값을 저장\n",
        "        b=x     # 변수b에 x값을 저장\n",
        "    return a    # 반복문이 끝난 후 a의 값을 리턴한다.\n",
        "\n",
        "a = int(input(\"n1입력>>>\"))\n",
        "b = int(input(\"n2입력>>>\"))\n",
        "print(f'최대공약수 : {gcd(a,b)}')"
      ]
    },
    {
      "cell_type": "code",
      "source": [
        "#풀이 2 - 주석X\n",
        "def gcd(a, b):\n",
        "    while b > 0:\n",
        "        a, b = b, a % b\n",
        "    return a\n",
        "\n",
        "a = int(input(\"n1입력>>>\"))\n",
        "b = int(input(\"n2입력>>>\"))\n",
        "print(f'최대공약수 : {gcd(a,b)}')"
      ],
      "metadata": {
        "colab": {
          "base_uri": "https://localhost:8080/"
        },
        "id": "mxZgpXJTlkCc",
        "outputId": "488bd94b-db5d-4f9b-db6e-902e1eb7375b"
      },
      "execution_count": null,
      "outputs": [
        {
          "output_type": "stream",
          "name": "stdout",
          "text": [
            "n1입력>>>221\n",
            "n2입력>>>143\n",
            "최대공약수 : 13\n"
          ]
        }
      ]
    }
  ]
}