{
  "nbformat": 4,
  "nbformat_minor": 0,
  "metadata": {
    "colab": {
      "name": "Day 11.ipynb",
      "provenance": [],
      "include_colab_link": true
    },
    "kernelspec": {
      "name": "python3",
      "display_name": "Python 3"
    },
    "language_info": {
      "name": "python"
    }
  },
  "cells": [
    {
      "cell_type": "markdown",
      "metadata": {
        "id": "view-in-github",
        "colab_type": "text"
      },
      "source": [
        "<a href=\"https://colab.research.google.com/github/rhgurqo52/ai/blob/main/day11.ipynb\" target=\"_parent\"><img src=\"https://colab.research.google.com/assets/colab-badge.svg\" alt=\"Open In Colab\"/></a>"
      ]
    },
    {
      "cell_type": "code",
      "execution_count": null,
      "metadata": {
        "colab": {
          "base_uri": "https://localhost:8080/"
        },
        "id": "WbF1vKD1jjXj",
        "outputId": "6d6da2c4-a967-4767-b463-ec6a79f8cdf4"
      },
      "outputs": [
        {
          "output_type": "stream",
          "name": "stdout",
          "text": [
            "First Name : Austin\n",
            "Hello Austin\n"
          ]
        }
      ],
      "source": [
        "#######################################################\n",
        "# Genaral\n",
        "#######################################################\n",
        "\n",
        "# 001 Ask for the user's first name and display the output message\n",
        "# (output) Hello [First Name]\n",
        "# (input)   First Name :\n",
        "\n",
        "fname = input('First Name : ')\n",
        "print('Hello', fname)"
      ]
    },
    {
      "cell_type": "code",
      "source": [
        ""
      ],
      "metadata": {
        "id": "WgcL3loTNCpt"
      },
      "execution_count": null,
      "outputs": []
    },
    {
      "cell_type": "code",
      "source": [
        "# 002 Ask for the user's first name and then as for their surname and display the output message\n",
        "# (output) Hello [First Name] [Surname]\n",
        "# (input) 'Please enter your surname : '\n",
        "# (input) 'Please enter your firstname : '\n",
        "sname = input('Please enter your surname  ')\n",
        "fname = input('Please enter your firstname  ')\n",
        "print('Hello', fname, sname)\n",
        "print(f'Hello {fname} {sname}')"
      ],
      "metadata": {
        "colab": {
          "base_uri": "https://localhost:8080/"
        },
        "id": "LgmHbQ-Skp9a",
        "outputId": "42cec080-a94f-43b1-f153-1a3234d788c5"
      },
      "execution_count": null,
      "outputs": [
        {
          "output_type": "stream",
          "name": "stdout",
          "text": [
            "Please enter your surname  yoon\n",
            "Please enter your firstname  austin\n",
            "Hello austin yoon\n",
            "Hello austin yoon\n"
          ]
        }
      ]
    },
    {
      "cell_type": "code",
      "source": [
        ""
      ],
      "metadata": {
        "id": "GYPrVhZYNDd6"
      },
      "execution_count": null,
      "outputs": []
    },
    {
      "cell_type": "code",
      "source": [
        ""
      ],
      "metadata": {
        "id": "CaF-Lm2PNPbl"
      },
      "execution_count": null,
      "outputs": []
    },
    {
      "cell_type": "code",
      "source": [
        "# Ask the user to enter two numbers. Add them together and display the answer as \n",
        "#(output) The total is [answer]\n",
        "#(input) 'Please enter your first number : '\n",
        "#(input) 'Please enter your second number : '\n",
        "\n",
        "no1 = int(input('Please enter your first number : '))\n",
        "no2 = int(input('Please enter your second number : '))\n",
        "\n",
        "print(f'The total is {no1 + no2}')"
      ],
      "metadata": {
        "colab": {
          "base_uri": "https://localhost:8080/"
        },
        "id": "Wn9Sp5nwmNKr",
        "outputId": "af721311-8257-46de-fe7c-2d8f3184c5a2"
      },
      "execution_count": null,
      "outputs": [
        {
          "output_type": "stream",
          "name": "stdout",
          "text": [
            "Please enter your first number : 2\n",
            "Please enter your second number : 3\n",
            "The total is 5\n"
          ]
        }
      ]
    },
    {
      "cell_type": "code",
      "source": [
        "# Ask how many slices of pizza the user started with and ask how many slices they have eaten.\n",
        "# Work out how many slices they have left and display the answer in a user friendly format.\n",
        "\n",
        "# (input) 'Enter the number of slices of pizza you started with : '\n",
        "# (input) 'How many slices have you eaten? '\n",
        "# (output) 'The answer is [ answer ]' \n",
        "\n",
        "num1 = int(input('Enter the number of slices of pizza you started with : '))\n",
        "num2 = int(input( 'How many slices have you eaten? '))\n",
        "\n",
        "print(f'The answer is {num1-num2}')"
      ],
      "metadata": {
        "colab": {
          "base_uri": "https://localhost:8080/"
        },
        "id": "809JLi_InkMc",
        "outputId": "ace6e5aa-d10b-4deb-f303-2e6571dde21d"
      },
      "execution_count": null,
      "outputs": [
        {
          "output_type": "stream",
          "name": "stdout",
          "text": [
            "Enter the number of slices of pizza you started with : 8\n",
            "How many slices have you eaten? 4\n",
            "The answer is 4\n"
          ]
        }
      ]
    },
    {
      "cell_type": "code",
      "source": [
        "# Write a program that will ask for a number of days and then will show \n",
        "# how many hours, minutes and seconds are in that number of days.\n",
        "# 일수, 날짜수를 입력 받아서 그 일수 까지의 몇시간 몇분 몇초 가 남았는지를 계산하여 출력하시오\n",
        "#(input) 'Enter the number of days :'\n",
        "\n",
        "#(output) 'In [days], days there are...'\n",
        "#      [hours] hours,\n",
        "#      [minutes] minutes,\n",
        "#      [seconds] seconds\n",
        "\n",
        "days = int(input('Enter the number of days : '))\n",
        "print(f'In {days}, days there are...\\n\\t\\t{days * 24} hours,\\n\\t\\t{days * 24 * 60} minutes,\\n\\t\\t{days * 24 * 60 * 60} seconds.')\n",
        "  "
      ],
      "metadata": {
        "colab": {
          "base_uri": "https://localhost:8080/"
        },
        "id": "aFODJSFjoxRP",
        "outputId": "1ca4ffbf-6734-46db-c53f-ab57103b071c"
      },
      "execution_count": null,
      "outputs": [
        {
          "output_type": "stream",
          "name": "stdout",
          "text": [
            "Enter the number of days : 2\n",
            "In 2, days there are...\n",
            "\t\t48 hours,\n",
            "\t\t2880 minutes,\n",
            "\t\t172800 seconds.\n"
          ]
        }
      ]
    },
    {
      "cell_type": "code",
      "source": [
        "# Task the user to enter a number over 100 and then enter a number \n",
        "# under 10 and tell them how many times the smaller number goes into the larger\n",
        "# number in a user-friendly format.\n",
        "\n",
        "# 사용자로 부터 100이 넘는 숫자를 입력받고 10미만의 숫자 하나를 입력받아\n",
        "# 작은 숫자가 큰 숫자안에 몇 번 들어가는지 사용자 친화적으로 출력하시오.\n",
        "\n",
        "# (input) 'Enter the number over 100 : '\n",
        "# (input) 'Enter the number under 10 : '\n",
        "# (output) '[smaller] goes into [larger] answer [times]' \n",
        "\n",
        "larger = int(input('Enter the number over 100 : '))\n",
        "smaller = int(input('Enter the number under 10 : '))\n",
        "\n",
        "print(f'{smaller} goes into {larger} answer {larger // smaller} times')\n",
        "print(f'{smaller} goes into {larger} answer {int(larger / smaller)} times')"
      ],
      "metadata": {
        "colab": {
          "base_uri": "https://localhost:8080/"
        },
        "id": "D6VCX95usri_",
        "outputId": "e822dfdd-078b-4123-c63b-e8966d275ae8"
      },
      "execution_count": null,
      "outputs": [
        {
          "output_type": "stream",
          "name": "stdout",
          "text": [
            "Enter the number over 100 : 200\n",
            "Enter the number under 10 : 8\n",
            "8 goes into 200 answer 25 times\n",
            "8 goes into 200 answer 25 times\n"
          ]
        }
      ]
    },
    {
      "cell_type": "code",
      "source": [
        ""
      ],
      "metadata": {
        "id": "G77MU7np0xjJ"
      },
      "execution_count": null,
      "outputs": []
    },
    {
      "cell_type": "code",
      "source": [
        "#######################################################\n",
        "# IF Statement\n",
        "#######################################################\n",
        "# Ask for two numbers. If the first one is larger than the second, display the second number first and\n",
        "# then the first number, otherwise show the first number first and then the second.\n",
        "\n",
        "# 두개의 숫자를 입력 받아  만약 첫번째 숫자가 두번째 숫자보다 크면 두번째 숫자를 먼저 출력하고 \n",
        "# 첫번째 숫자를 출력한다. 그렇지 않으면 첫번째 숫자를 출력하고 두번째 숫자를 출력한다. \n",
        "\n",
        "# (input)'Enter first number : ' 3 \n",
        "# (input)'Enter second number : '2\n",
        "# (output) 2 3\n",
        "\n",
        "no1 = int(input('Enter first number :  '))\n",
        "no2 = int(input('Enter second number : '))\n",
        "\n",
        "if no1 > no2:\n",
        "  print(no2, no1)\n",
        "else:\n",
        "  print(no1, no2)\n"
      ],
      "metadata": {
        "colab": {
          "base_uri": "https://localhost:8080/"
        },
        "id": "PAUQ59YyzaNt",
        "outputId": "f27dedb6-9f96-432d-fd76-39a39872a6e0"
      },
      "execution_count": null,
      "outputs": [
        {
          "output_type": "stream",
          "name": "stdout",
          "text": [
            "Enter first number :  3\n",
            "Enter second number : 2\n",
            "2 3\n"
          ]
        }
      ]
    },
    {
      "cell_type": "code",
      "source": [
        "# Ask the user to enter a number between 10 and 20 If they enter a number within this range,\n",
        "# display the message 'Thank you' otherwise display the message 'incorrect number'\n",
        "\n",
        "# 10에서 20 사이의 숫자입력을 요청한다. 만약 입력된 값이 이 범위안의 숫자이면 'Thank you' 아니면 \n",
        "# 'Incorrect number'를 입력하라\n",
        "\n",
        "\n",
        "num = int(input('Enter a value between 10 and 20 :'))\n",
        "if num >=10 and num <= 20:\n",
        "  print('Thank you')\n",
        "else:\n",
        "  print('incorrect number')\n"
      ],
      "metadata": {
        "id": "vQyMk8oH2Hwa"
      },
      "execution_count": null,
      "outputs": []
    },
    {
      "cell_type": "code",
      "source": [
        "# Ask the user to enter their favorite color. If they enter 'red', 'RED' or 'Red'\n",
        "# display the message ' I like red too', otherwise display the message \n",
        "# 'I dont like [color], I prefer red'.\n",
        "\n",
        "fc = input(\"favorite color : \")\n",
        "if fc in [\"red\",\"RED\",\"Red\"]:\n",
        "  print(\"i like it too\")\n",
        "else:\n",
        "  print(f\"i dont like {fc}, I prefer red'.\")\n"
      ],
      "metadata": {
        "id": "6ElrfJub27pn"
      },
      "execution_count": null,
      "outputs": []
    },
    {
      "cell_type": "code",
      "source": [
        "# Ask the user if it is raining and convert their answer to lower case \n",
        "# 사용자에게 지금 비가오고 있는지 묻고 그 대답을 소문자로 변환하여\n",
        "# so it doesnt matter what case they type it in. If they answer 'yes',\n",
        "# 대소문자 입력한 값에 상관없도록한다. 만약 'yes'를 입력하면 \n",
        "# ask if it is windy. If they answer 'yes' to this second question,\n",
        "# 바람이 부는지 다시 묻는다. 두번째 질문도 'yes'입력하면 \n",
        "# display the answer 'It is too windy for an umbrella', otherwise\n",
        "#  'It is too windy for an umbrella' 출력한다. 그렇지 않으면 \n",
        "# display the message 'Take an umbrella'. If they did not answer yes to the first question,\n",
        "# 'Take an umbrella'. 출력한다. 첫번째 질문에 'yes'가 아니면 \n",
        "# display the answer 'Enjoy your day'.\n",
        "# 'Enjoy your day'.를 출력한다. \n",
        "\n",
        "# (input) Is it raining ?\n",
        "# (input) Is it windy ?\n",
        "\n",
        "# (output) 'It is too windy for an umbrella'\n",
        "# (output) 'Take an umbrella'\n",
        "# (output) 'Enjoy your day'.\n",
        "\n",
        "raining = input('Is it raining ?')\n",
        "raining = str.lower(raining)\n",
        "\n",
        "if raining == 'yes':\n",
        "  windy = input('Is it windy ?')\n",
        "  windy = str.lower(windy)\n",
        "  if windy == 'yes':\n",
        "    print('It is too windy for an umbrella')\n",
        "  else:\n",
        "    print('Take an umbrella')\n",
        "else:\n",
        "  print('Enjoy your day')"
      ],
      "metadata": {
        "colab": {
          "base_uri": "https://localhost:8080/"
        },
        "id": "pNpYefXP57Gr",
        "outputId": "6aebe943-b1d4-4df1-bf9e-cf47cce2a5fe"
      },
      "execution_count": null,
      "outputs": [
        {
          "output_type": "stream",
          "name": "stdout",
          "text": [
            "Is it raining ?yes\n",
            "Is it windy ?Yes\n",
            "It is too windy for an umbrella\n"
          ]
        }
      ]
    },
    {
      "cell_type": "code",
      "source": [
        "# Ask the user's age. If they are 18 or over, display the message 'You can vote',\n",
        "# if they are aged 17, display the message 'You can learn to drive', \n",
        "# if they are 16, display the message 'You can by a lottery ticket', \n",
        "# if they are under 16, display the message 'You can go Trick or Treating'\n",
        "\n",
        "# (input) What is your age ?\n",
        "\n",
        "# (output) 'You can vote',\n",
        "              # 'You can learn to drive',\n",
        "              # 'You can by a lottery ticket', \n",
        "              # 'You can go Trick or Treating'\n",
        "\n",
        "age = int(input('What is your age ?'))\n",
        "\n",
        "if age >= 18:\n",
        "  print('You can vote')\n",
        "elif age == 17:\n",
        "  print('You can learn to drive')\n",
        "elif age == 16:\n",
        "  print('You can by a lottery ticket')\n",
        "else:\n",
        "  print('You can go Trick or Treating')\n"
      ],
      "metadata": {
        "id": "VOLEZsp657ZG"
      },
      "execution_count": null,
      "outputs": []
    },
    {
      "cell_type": "code",
      "source": [
        "###################################\n",
        "# String\n",
        "###################################\n",
        "\n",
        "# Ask the user to enter their name and then display the length of their name !\n",
        "\n",
        "name = input(\"name ?\")\n",
        "print(len(name))"
      ],
      "metadata": {
        "colab": {
          "base_uri": "https://localhost:8080/"
        },
        "id": "ipeqbHi_Ezov",
        "outputId": "0a5df61f-c332-4756-f7d7-974899095148"
      },
      "execution_count": null,
      "outputs": [
        {
          "output_type": "stream",
          "name": "stdout",
          "text": [
            "name ?austin\n",
            "6\n"
          ]
        }
      ]
    },
    {
      "cell_type": "code",
      "source": [
        "# Ask the user to enter their first name and lastname in lower case.\n",
        "# Change the case to title case and join them together.\n",
        "# Display the finished result.\n",
        "\n",
        "fname = input('Enter your first name in lowercase : ')\n",
        "lname = input('Enter your last name in lowercase : ')\n",
        "\n",
        "fname = fname.title()\n",
        "lname = lname.title()\n",
        "\n",
        "name = fname + \" \" + lname\n",
        "print(name)"
      ],
      "metadata": {
        "colab": {
          "base_uri": "https://localhost:8080/"
        },
        "id": "mnE9fi3-Fq7h",
        "outputId": "cff5f562-7be0-40fe-e021-737e74459ccd"
      },
      "execution_count": null,
      "outputs": [
        {
          "output_type": "stream",
          "name": "stdout",
          "text": [
            "Enter your first name in lowercase : austin\n",
            "Enter your last name in lowercase : yoon\n",
            "Austin Yoon\n"
          ]
        }
      ]
    },
    {
      "cell_type": "code",
      "source": [
        "# 이용욱\n",
        "\n",
        "fn,surn = input('Enter your name  ').split()\n",
        "\n",
        "fn.capitalize()\n",
        "surn.capitalize()\n",
        "\n",
        "print(fn.capitalize(),surn.capitalize())\n",
        "\n",
        "\n"
      ],
      "metadata": {
        "colab": {
          "base_uri": "https://localhost:8080/"
        },
        "id": "Nm8ERAyoH376",
        "outputId": "df21dcb9-4bd0-488a-b698-eee9312ead07"
      },
      "execution_count": null,
      "outputs": [
        {
          "output_type": "stream",
          "name": "stdout",
          "text": [
            "Enter your name  austin yoon\n",
            "Austin Yoon\n"
          ]
        }
      ]
    },
    {
      "cell_type": "code",
      "source": [
        "f = input(\" enter first name in lower case : \")\n",
        "s = input(\" enter lastname in lower case : \")\n",
        "\n",
        "f = f[0].upper()+f[1:-1]\n",
        "s = s[0].upper()+s[1:-1]\n",
        "\n",
        "print(f\"{f}{s}\")\n"
      ],
      "metadata": {
        "colab": {
          "base_uri": "https://localhost:8080/"
        },
        "id": "xLn3yLqjIF5J",
        "outputId": "53d9817d-26c5-4858-8c7e-930e50c6a6a7"
      },
      "execution_count": null,
      "outputs": [
        {
          "output_type": "stream",
          "name": "stdout",
          "text": [
            " enter first name in lower case : austin\n",
            " enter lastname in lower case : yoon\n",
            "AustiYoo\n"
          ]
        }
      ]
    },
    {
      "cell_type": "code",
      "source": [
        "# Ask the user to enter their first name . If the length of their first name is under five characters,\n",
        "# ask them to enter their last name and join them together (without a space) and \n",
        "# display the name in upper case. If the length of the first name is five or more characters,\n",
        "# display their first name in lower case.\n",
        "\n",
        "fname = input('First name ? >>>')\n",
        "\n",
        "if len(fname) < 5:\n",
        "  lname = input('Last name ? >>>')\n",
        "  name = fname + lname\n",
        "  print(name.upper())\n",
        "else:\n",
        "  print(fname.lower())\n",
        "  "
      ],
      "metadata": {
        "colab": {
          "base_uri": "https://localhost:8080/"
        },
        "id": "t1McJxWSNR2Z",
        "outputId": "83531fcf-dc19-49c8-9833-1272a5427641"
      },
      "execution_count": null,
      "outputs": [
        {
          "output_type": "stream",
          "name": "stdout",
          "text": [
            "First name ? >>>aus\n",
            "Last name ? >>>yoon\n",
            "AUSYOON\n"
          ]
        }
      ]
    },
    {
      "cell_type": "code",
      "source": [
        "# Pig Latin takes the first character ofa word,\n",
        "# moves it to the end of the word and adds on an 'ay'.\n",
        "# If a word begins with a vowel you just add 'way' to the end.\n",
        "#                           ['a','e','i','o','u'] 모음\n",
        "\n",
        "# 피그 라틴은 단어의 첫 글자를 가져와서 단어의 끝으로 이동하고 마지막에 'ay'를 추가한다. \n",
        "# 만약 단어가 모음으로 시작하면 단어의 끝에 그냥 'way'를 붙인다. \n",
        "\n",
        "# For example, pig becomes igpay, banana becomes ananabay, and aadvark becomes\n",
        "# aadvarkway. Create a program that will ask the user to enter a word and \n",
        "# change it into Pig Latin. Make suer the new word is displayed in lower case.\n",
        "\n",
        "word = input('Please enter a word : ')\n",
        "first = word[0]\n",
        "length = len(word)\n",
        "rest = word[1:length]\n",
        "\n",
        "if first not in ['a','e','i','o','u']:  #모음 vowel\n",
        "  newword = rest + first + 'ay'\n",
        "else:\n",
        "  newword = word + 'way'\n",
        "\n",
        "print(newword.lower())"
      ],
      "metadata": {
        "colab": {
          "base_uri": "https://localhost:8080/"
        },
        "id": "SzyLvdCUPaUS",
        "outputId": "18c2c368-5f49-4efa-c5ee-613b68153250"
      },
      "execution_count": null,
      "outputs": [
        {
          "output_type": "stream",
          "name": "stdout",
          "text": [
            "Please enter a word : pig\n",
            "igpay\n"
          ]
        }
      ]
    }
  ]
}