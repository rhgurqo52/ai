{
  "nbformat": 4,
  "nbformat_minor": 0,
  "metadata": {
    "colab": {
      "name": "Day13",
      "provenance": [],
      "collapsed_sections": [],
      "include_colab_link": true
    },
    "kernelspec": {
      "name": "python3",
      "display_name": "Python 3"
    },
    "language_info": {
      "name": "python"
    }
  },
  "cells": [
    {
      "cell_type": "markdown",
      "metadata": {
        "id": "view-in-github",
        "colab_type": "text"
      },
      "source": [
        "<a href=\"https://colab.research.google.com/github/rhgurqo52/ai/blob/main/day13.ipynb\" target=\"_parent\"><img src=\"https://colab.research.google.com/assets/colab-badge.svg\" alt=\"Open In Colab\"/></a>"
      ]
    },
    {
      "cell_type": "code",
      "execution_count": null,
      "metadata": {
        "colab": {
          "base_uri": "https://localhost:8080/"
        },
        "id": "5XD7caqd2O3A",
        "outputId": "4194d79f-1557-4ee8-d2cd-1654bb67856a"
      },
      "outputs": [
        {
          "output_type": "stream",
          "name": "stdout",
          "text": [
            "Enter a number>>4\n",
            "Enter a number>>5\n",
            "The last number you entered was a 5\n"
          ]
        }
      ],
      "source": [
        "# Ask the user to enter a number. Keep asking until they enter a value over 5\n",
        "# and then display the message \"The last number you entered was a [number]\"\n",
        "# and stop the program.\n",
        "\n",
        "n=0\n",
        "while n<5:\n",
        "  n = int(input(\"Enter a number>>\"))\n",
        "print(f'The last number you entered was a {n}')"
      ]
    },
    {
      "cell_type": "code",
      "source": [
        "# Ask the user to enter a number and then enter another number.\n",
        "# Add there two numbers together and then \n",
        "# ask if they want to add another number. If they enter 'y', ask them to enter \n",
        "# another numbers until they do not answer 'y'. Once the loop has stopped,\n",
        "# display the total.\n",
        "\n",
        "a = int(input(\"Enter a number : \"))\n",
        "b = int(input(\"Enter a number : \"))\n",
        "\n",
        "sum = a+b\n",
        "\n",
        "while True:\n",
        "  ask = input('Do you want to add another number? (y/n)')\n",
        "  if ask == 'y':\n",
        "    n = int(input(\"Enter a number : \"))\n",
        "    sum += n\n",
        "  else:\n",
        "    break\n",
        "\n",
        "print(sum)"
      ],
      "metadata": {
        "colab": {
          "base_uri": "https://localhost:8080/"
        },
        "id": "b-Ttr5nT3Ozd",
        "outputId": "cbd60f1a-1b81-420f-d00a-ad3eed71d66e"
      },
      "execution_count": null,
      "outputs": [
        {
          "output_type": "stream",
          "name": "stdout",
          "text": [
            "Enter a number>>1\n",
            "Enter a number>>2\n",
            "add? >>(y/n)y\n",
            "Enter a number>>3\n",
            "add? >>(y/n)n\n",
            "6\n"
          ]
        }
      ]
    },
    {
      "cell_type": "code",
      "source": [
        "a = int(input('Enter a number : '))\n",
        "\n",
        "again = 'y'\n",
        "while again == 'y':\n",
        "  b = int(input('Enter a number : '))\n",
        "  a = a + b\n",
        "  again = input('Do you want to add another number? (y/n)')\n",
        "\n",
        "print('The total is ', a)\n"
      ],
      "metadata": {
        "colab": {
          "base_uri": "https://localhost:8080/"
        },
        "id": "IwZ1_OAO3O1u",
        "outputId": "fad4a0d2-bae6-4c07-9cb3-bdb217f785aa"
      },
      "execution_count": null,
      "outputs": [
        {
          "output_type": "stream",
          "name": "stdout",
          "text": [
            "Enter a number : 2\n",
            "Enter a number : 3\n",
            "Do you want to add another number? (y/n)y\n",
            "Enter a number : 5\n",
            "Do you want to add another number? (y/n)n\n",
            "The total is  10\n"
          ]
        }
      ]
    },
    {
      "cell_type": "code",
      "source": [
        "# Ask for the name of somebody the user wants to invite to a party.\n",
        "# After this, display the message '[name] has been invited' \n",
        "# and add 1 to the count. Then ask if they want to invite somebody else.\n",
        "# Keep repeating this until they no longer want to invite anyone else to the\n",
        "# party and then display how many people they have coming to the party.\n",
        "\n",
        "ask = 'y'\n",
        "cnt = 0\n",
        "while ask == 'y':\n",
        "  name = input('Enter a name of somebody you want to invite to the party? : ')\n",
        "  print(f'{name} has been invited')\n",
        "  cnt+=1\n",
        "  ask = input(\"Do you want to invite somebody else? (y/n)\")\n",
        "print(f'You have {cnt} people coming to your party')"
      ],
      "metadata": {
        "colab": {
          "base_uri": "https://localhost:8080/"
        },
        "id": "nqi2hCiX3O4f",
        "outputId": "32457c43-cec0-41c6-e584-ad11683e2199"
      },
      "execution_count": null,
      "outputs": [
        {
          "output_type": "stream",
          "name": "stdout",
          "text": [
            "name : jieun\n",
            "jieun has now been invited\n",
            "invite? > (y/n)y\n",
            "name : sd\n",
            "sd has now been invited\n",
            "invite? > (y/n)n\n",
            "2명 초대\n"
          ]
        }
      ]
    },
    {
      "cell_type": "code",
      "source": [
        "# Create a variable called compnum and set the value to 50. \n",
        "# Ask the user to enter a number. \n",
        "# while their guess is not the same as the compnum value,\n",
        "# tell them if their guess is too low or too high and ask them to have another guess.\n",
        "# If they enter the same value as compnum, \n",
        "# display the message 'Well done, you took [count] apptmpts'.\n",
        "\n",
        "import random\n",
        "\n",
        "compnum = random.randint(0,100)\n",
        "a = int(input('Enter a number : '))\n",
        "cnt=0\n",
        "while compnum != a:\n",
        "  if compnum > a:\n",
        "    print(f'Too low')\n",
        "  elif compnum < a:\n",
        "    print(f'Too high')\n",
        "  compnum = random.randint(0,100)\n",
        "  cnt+=1\n",
        "\n",
        "print(f'well done you took {cnt} apptmpts')"
      ],
      "metadata": {
        "colab": {
          "base_uri": "https://localhost:8080/"
        },
        "id": "T85ye5B-8Ndg",
        "outputId": "210d9703-547d-4c10-81c1-64d33429b687"
      },
      "execution_count": null,
      "outputs": [
        {
          "output_type": "stream",
          "name": "stdout",
          "text": [
            "Enter a number : 3\n",
            "Too low\n",
            "Too low\n",
            "Too low\n",
            "Too low\n",
            "Too low\n",
            "Too low\n",
            "Too low\n",
            "Too low\n",
            "Too low\n",
            "Too low\n",
            "Too low\n",
            "Too low\n",
            "Too low\n",
            "Too low\n",
            "Too low\n",
            "Too low\n",
            "Too low\n",
            "Too low\n",
            "Too low\n",
            "Too low\n",
            "Too low\n",
            "Too low\n",
            "Too low\n",
            "Too low\n",
            "Too low\n",
            "Too low\n",
            "Too low\n",
            "well done you took 27 apptmpts\n"
          ]
        }
      ]
    },
    {
      "cell_type": "code",
      "source": [
        "compnum = 50\n",
        "\n",
        "num = int(input('Can u guess the number I am thinking of ?'))\n",
        "count = 1\n",
        "while compnum != num:\n",
        "  if num < compnum:\n",
        "    print('Too low')\n",
        "  else:\n",
        "    print('Too high')\n",
        "  count += 1\n",
        "  num = int(input('another guess : '))\n",
        "\n",
        "print('Well done, you took ',count, 'apptmpts')"
      ],
      "metadata": {
        "id": "GMQ1gIRa8Nf5"
      },
      "execution_count": null,
      "outputs": []
    },
    {
      "cell_type": "code",
      "source": [
        "# Using the song '10 green bottles', display the lines \n",
        "\n",
        "# 'There are [num] green bottles hanging on the wall, \n",
        "# [num] green bottles hanging on the wall, \n",
        "# and if 1 green bottle should accidentally fall'\n",
        "\n",
        "# Then ask the question 'how many green bottles will be hanging on the wall?'\n",
        "# If the user answers correctly, display the message\n",
        "# 'There will be [num] green bottles hanging on the wall'\n",
        "# If they answer incorrectly, display the message \n",
        "# 'No, try again' until ghey get if right. \n",
        "# When the number of green bottles gets down to 0,\n",
        "# display the message 'There are no more green bottles hanging on the wall'\n",
        "\n",
        "num=10\n",
        "\n",
        "print(f'there are {num} green borrles ganging on the wall,\\n{num} green bottles hanging on the wall,\\nand if 1 green bottle should accidentally fall')\n",
        "\n",
        "x = num-1\n",
        "while x!=0:\n",
        "  ask = int(input('how many green bottles will be hanging on the wall?'))\n",
        "  if ask == x:\n",
        "    print(f'There will be {num} green bottles hanging on the wall')\n",
        "    x-=1\n",
        "  else:\n",
        "    print(f'No, try again')\n",
        "print(f'There are no more green bottles hanging on the wall')"
      ],
      "metadata": {
        "colab": {
          "base_uri": "https://localhost:8080/"
        },
        "id": "IYp6yK-HGMU4",
        "outputId": "4d89cb2c-e60b-4514-c889-352e40d71257"
      },
      "execution_count": null,
      "outputs": [
        {
          "output_type": "stream",
          "name": "stdout",
          "text": [
            "there are 10 green borrles ganging on the wall,\n",
            "10 green bottles hanging on the wall,\n",
            "and if 1 green bottle should accidentally fall\n",
            "how many green bottles will be hanging on the wall?8\n",
            "No, try again\n",
            "how many green bottles will be hanging on the wall?7\n",
            "No, try again\n",
            "how many green bottles will be hanging on the wall?6\n",
            "No, try again\n",
            "how many green bottles will be hanging on the wall?9\n",
            "There will be 10 green bottles hanging on the wall\n",
            "how many green bottles will be hanging on the wall?8\n",
            "There will be 10 green bottles hanging on the wall\n",
            "how many green bottles will be hanging on the wall?7\n",
            "There will be 10 green bottles hanging on the wall\n",
            "how many green bottles will be hanging on the wall?6\n",
            "There will be 10 green bottles hanging on the wall\n",
            "how many green bottles will be hanging on the wall?5\n",
            "There will be 10 green bottles hanging on the wall\n",
            "how many green bottles will be hanging on the wall?4\n",
            "There will be 10 green bottles hanging on the wall\n",
            "how many green bottles will be hanging on the wall?3\n",
            "There will be 10 green bottles hanging on the wall\n",
            "how many green bottles will be hanging on the wall?2\n",
            "There will be 10 green bottles hanging on the wall\n",
            "how many green bottles will be hanging on the wall?1\n",
            "There will be 10 green bottles hanging on the wall\n",
            "There are no more green bottles hanging on the wall\n"
          ]
        }
      ]
    },
    {
      "cell_type": "code",
      "source": [
        "###################################################\n",
        "# Random : Python can gererate random values\n",
        "###################################################\n",
        "# - Random numbers within a specified range\n",
        "# - A random choice from a range of items that are input\n",
        "\n",
        "# To use these two options, you will need to import the random module. \n",
        "# You do this by typing import random at the start of your program."
      ],
      "metadata": {
        "id": "54OMndc5GMXp"
      },
      "execution_count": null,
      "outputs": []
    },
    {
      "cell_type": "code",
      "source": [
        "import random\n",
        "num = random.random()\n",
        "print(num)\n",
        "\n",
        "# random floating number between 0 and 1"
      ],
      "metadata": {
        "colab": {
          "base_uri": "https://localhost:8080/"
        },
        "id": "fq0mPmvASH6Y",
        "outputId": "198dea74-e3ef-4f9e-a21f-7bbb44e4572b"
      },
      "execution_count": null,
      "outputs": [
        {
          "output_type": "stream",
          "name": "stdout",
          "text": [
            "0.611527771621302\n"
          ]
        }
      ]
    },
    {
      "cell_type": "code",
      "source": [
        "num = int((random.random()) * 100)\n",
        "print(num)"
      ],
      "metadata": {
        "colab": {
          "base_uri": "https://localhost:8080/"
        },
        "id": "aYdB1GdcSh5v",
        "outputId": "b5ddfdb4-75ee-4bd8-9f97-13d307eab7af"
      },
      "execution_count": null,
      "outputs": [
        {
          "output_type": "stream",
          "name": "stdout",
          "text": [
            "55\n"
          ]
        }
      ]
    },
    {
      "cell_type": "code",
      "source": [
        "# Select a random whole number between 0 and 9 (inclusive)\n",
        "num = random.randint(0,9) #9 (inclusive) 포함\n",
        "print(num)"
      ],
      "metadata": {
        "colab": {
          "base_uri": "https://localhost:8080/"
        },
        "id": "WxP5mdXCS11q",
        "outputId": "4107c428-0453-49e7-ea28-087684a41f84"
      },
      "execution_count": null,
      "outputs": [
        {
          "output_type": "stream",
          "name": "stdout",
          "text": [
            "9\n"
          ]
        }
      ]
    },
    {
      "cell_type": "code",
      "source": [
        "# Picks a random number between the numbers 0 and 100(inclusive) in steps of five\n",
        "# It will only pick from 0,5,10,15,20.....etc\n",
        "\n",
        "num = random.randrange(0,100,5) # 100(inclusive)\n",
        "print(num)"
      ],
      "metadata": {
        "colab": {
          "base_uri": "https://localhost:8080/"
        },
        "id": "Nbt9A02XTbD-",
        "outputId": "41714d89-c59f-4164-ca31-7066c1dd0824"
      },
      "execution_count": null,
      "outputs": [
        {
          "output_type": "stream",
          "name": "stdout",
          "text": [
            "5\n"
          ]
        }
      ]
    },
    {
      "cell_type": "code",
      "source": [
        "# Picks a random value from the options..........\n",
        "\n",
        "color = random.choice(['red','black','blue','green','white'])\n",
        "print(color)"
      ],
      "metadata": {
        "colab": {
          "base_uri": "https://localhost:8080/"
        },
        "id": "CbsclFCtTbF3",
        "outputId": "4586669c-2814-465f-8526-83689e5b0ef0"
      },
      "execution_count": null,
      "outputs": [
        {
          "output_type": "stream",
          "name": "stdout",
          "text": [
            "blue\n"
          ]
        }
      ]
    },
    {
      "cell_type": "code",
      "source": [
        "# Randomly choose either heads or tails ( 'h' or 't') \n",
        "# Ask the user to make their choice.\n",
        "# If their choice is the same as the randomly selected value,\n",
        "# display the message ' You Win ', otherwise display 'Bad luck'.\n",
        "# At the end, tell the user if the computer selected heads or tails\n",
        "\n",
        "import random\n",
        "\n",
        "coin = random.choice(['h','t'])\n",
        "\n",
        "while True:\n",
        "  ask = input('pick>>> (h/t)')\n",
        "  if ask == coin:\n",
        "    print(f'You win')\n",
        "    break\n",
        "  else:\n",
        "    print(f'Bad luck')\n",
        "    break\n",
        "\n",
        "if a == 'h':\n",
        "  print(f'head')\n",
        "elif a == 't':\n",
        "  print(f'tail')"
      ],
      "metadata": {
        "colab": {
          "base_uri": "https://localhost:8080/"
        },
        "id": "MpraEsRfTbIG",
        "outputId": "2026d2ce-1be1-4776-e26d-cb80df696ef7"
      },
      "execution_count": null,
      "outputs": [
        {
          "output_type": "stream",
          "name": "stdout",
          "text": [
            "pick>>> (h/t)t\n",
            "You win\n",
            "tail\n"
          ]
        }
      ]
    },
    {
      "cell_type": "code",
      "source": [
        "import random\n",
        "\n",
        "coin = random.choice(['h','t'])\n",
        "\n",
        "guess = input('Enter (h)eads or (t)ails : ')\n",
        "\n",
        "if coin == guess :\n",
        "  print('You win')\n",
        "else:\n",
        "  print('Bad luck')"
      ],
      "metadata": {
        "id": "VyJbX6YMVUFy"
      },
      "execution_count": null,
      "outputs": []
    },
    {
      "cell_type": "code",
      "source": [
        "# Makes a maths quiz that asks five questions \n",
        "# by randomly generating two whole numbers to make the question\n",
        "# ( [num1 + num2] )\n",
        "# Ask the user to enter the answer. \n",
        "# If they get it right add a point to their score.\n",
        "# At the end of the quiz, tell them how many they got correct out of five.\n",
        "\n",
        "# (output) ; 'You scored [score] out of 5'\n",
        "\n",
        "sc = 0\n",
        "cnt=0\n",
        "while cnt<5:\n",
        "  a = random.random()\n",
        "  b = random.random()\n",
        "  res = a+b\n",
        "  ask = int(input('res : '))\n",
        "  if ask == res:\n",
        "    sc+=1\n",
        "  cnt+=1\n",
        "\n",
        "print(f'you scored {sc} out of 5')"
      ],
      "metadata": {
        "colab": {
          "base_uri": "https://localhost:8080/"
        },
        "id": "yyg66shdW1Kq",
        "outputId": "42634e60-95e9-4c3e-b9f9-04b8749ee49c"
      },
      "execution_count": null,
      "outputs": [
        {
          "output_type": "stream",
          "name": "stdout",
          "text": [
            "res : 2\n",
            "res : 3\n",
            "res : 7\n",
            "res : 4\n",
            "res : 1\n",
            "you scored 0 out of 5\n"
          ]
        }
      ]
    },
    {
      "cell_type": "code",
      "source": [
        "import random\n",
        "\n",
        "score = 0\n",
        "\n",
        "for i in range(5):\n",
        "  num1 = random.randint(1,9)\n",
        "  num2 = random.randint(1,9)\n",
        "\n",
        "  corr = num1 + num2\n",
        "\n",
        "  print(f'{num1} + {num2} = ')\n",
        "  answer = int(input('Your answer : '))\n",
        "  print()\n",
        "  if answer == corr:\n",
        "    score += 1\n",
        "\n",
        "print(f'you scored {score} out of 5')"
      ],
      "metadata": {
        "colab": {
          "base_uri": "https://localhost:8080/"
        },
        "id": "bqidDsk2YeLe",
        "outputId": "8eee392a-fb61-41c5-85d0-04d5d4cbf87c"
      },
      "execution_count": null,
      "outputs": [
        {
          "output_type": "stream",
          "name": "stdout",
          "text": [
            "6 + 6 = \n",
            "Your answer : 12\n",
            "\n",
            "3 + 5 = \n",
            "Your answer : 8\n",
            "\n",
            "9 + 2 = \n",
            "Your answer : 11\n",
            "\n",
            "4 + 2 = \n",
            "Your answer : 6\n",
            "\n",
            "8 + 8 = \n",
            "Your answer : 0\n",
            "\n",
            "you scored 4 out of 5\n"
          ]
        }
      ]
    },
    {
      "cell_type": "code",
      "source": [
        "# Display five colors and ask the user to pick one.\n",
        "# If they pick the same as the program has chosen,\n",
        "# say 'Well done', otherwise display a witty answer which involves\n",
        "# the correct colors....like...'I bet you are GREEN with envy'\n",
        "# or 'You are probably feeling BLUE right now'.\n",
        "# Ask them to guess again: if they have still not got it right,\n",
        "# keep giving them the same clue and ask the user to enter a color\n",
        "# until they guess it correctly.\n",
        "\n",
        "import random\n",
        "color = random.choice(['red','black','blue','green','white'])\n",
        "\n",
        "while True:\n",
        "  p = input('pick color (red/black/blue/green/white) : ')\n",
        "  if color == p:\n",
        "    print(f'well done')\n",
        "    break\n",
        "  else:\n",
        "    if color == 'green':\n",
        "      print(f'l bet you are green with envy')\n",
        "    elif color == 'red':\n",
        "      print(f'Both cheeks are red like apples')\n",
        "    elif color == 'black':\n",
        "      print(f'I like black places')\n",
        "    elif color == 'blue':\n",
        "      print(f'you are probably feeling blue right now')\n",
        "    elif color == 'white':\n",
        "      print(f'I like snow-white days.')\n",
        "\n",
        "print(f'correct color : {color}')"
      ],
      "metadata": {
        "colab": {
          "base_uri": "https://localhost:8080/"
        },
        "id": "nmeY6Glua5aH",
        "outputId": "4da69f6c-ac4e-4f19-947a-d3c9fdd3b3d8"
      },
      "execution_count": null,
      "outputs": [
        {
          "output_type": "stream",
          "name": "stdout",
          "text": [
            "pick color (red/black/blue/green/white) : red\n",
            "I like dark places\n",
            "pick color (red/black/blue/green/white) : black\n",
            "well done\n",
            "correct color : black\n"
          ]
        }
      ]
    }
  ]
}