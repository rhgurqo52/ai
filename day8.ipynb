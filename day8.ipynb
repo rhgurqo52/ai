{
  "nbformat": 4,
  "nbformat_minor": 0,
  "metadata": {
    "colab": {
      "name": "Day8",
      "provenance": [],
      "collapsed_sections": [],
      "include_colab_link": true
    },
    "kernelspec": {
      "name": "python3",
      "display_name": "Python 3"
    },
    "language_info": {
      "name": "python"
    }
  },
  "cells": [
    {
      "cell_type": "markdown",
      "metadata": {
        "id": "view-in-github",
        "colab_type": "text"
      },
      "source": [
        "<a href=\"https://colab.research.google.com/github/rhgurqo52/ai/blob/main/day8.ipynb\" target=\"_parent\"><img src=\"https://colab.research.google.com/assets/colab-badge.svg\" alt=\"Open In Colab\"/></a>"
      ]
    },
    {
      "cell_type": "code",
      "execution_count": null,
      "metadata": {
        "colab": {
          "base_uri": "https://localhost:8080/"
        },
        "id": "GNBgAr207j17",
        "outputId": "b5a4efd8-a1db-4594-8e57-76c47932653f"
      },
      "outputs": [
        {
          "output_type": "stream",
          "name": "stdout",
          "text": [
            "이름\t\t총점\t\t평균\n",
            "슈가\t\t368\t\t92.0\n",
            "진\t\t372\t\t93.0\n",
            "윈터\t\t386\t\t96.5\n"
          ]
        }
      ],
      "source": [
        "# 클래스와 객체\n",
        "\n",
        "# C언어를 제외한 대부분의 언어는 객체지향 프로그래밍 Object Oriented Programming : OOP 언어이다.\n",
        "# 객체지향 언어는 클래스를 기반으로 객체를 만들고 그 객체들을 우선으로 생각해서 프로그래밍 하는것을 철학으로 한다.\n",
        "\n",
        "# 객체 \n",
        "\n",
        "students = [\n",
        "          {'name':'슈가', 'korean':87, 'math':98, 'eng':88, 'sci':95},\n",
        "          {'name':'진', 'korean':90, 'math':99, 'eng':86, 'sci':97},\n",
        "          {'name':'윈터', 'korean':99, 'math':89, 'eng':99, 'sci':99}\n",
        "]\n",
        "\n",
        "print('이름','총점','평균', sep='\\t\\t')\n",
        "\n",
        "for student in students:\n",
        "  # 학생들의 점수의 총합과 평균을 구하다\n",
        "  score_sum = student['korean'] + student['math'] + student['eng'] + student['sci']\n",
        "  score_avg = score_sum/4\n",
        "\n",
        "  print(student['name'], score_sum, score_avg, sep='\\t\\t')\n",
        "\n",
        "  # 딕셔너리로 학생 한명한명을 표현하고 이를 리스트로 묶어서 학생 전체를 표현했다.\n",
        "  # 여러가지 속성을 가질 수 있는 대상을 '객체'object 라고 부른다.\n",
        "  # 그런데... 딕셔너리로 객체를 하나하나 만들면 복잡하고 귀찮다. 키를 모르면 사용하기도 어렵다.\n",
        "\n",
        "  # 함수형태로 변형해보자"
      ]
    },
    {
      "cell_type": "code",
      "source": [
        "# 딕셔너리로 리턴하는 함수\n",
        "def create_student(name, korean, math, eng, sci):\n",
        "  return {\n",
        "      'name':name,\n",
        "      'korean':korean,\n",
        "      'math':math,\n",
        "      'eng':eng,\n",
        "      'sci':sci\n",
        "  }\n",
        "\n",
        "# 학생들 리스트\n",
        "students = [\n",
        "        create_student('슈가', 87, 98, 88, 95),\n",
        "        create_student('진', 90, 99, 86, 97),\n",
        "        create_student('윈터', 99, 89, 99, 99)\n",
        "]\n",
        "\n",
        "# 한명씩 반복\n",
        "print('이름','총점','평균', sep='\\t\\t')\n",
        "for student in students:\n",
        "  # 학생들의 점수의 총합과 평균을 구하다\n",
        "  score_sum = student['korean'] + student['math'] + student['eng'] + student['sci']\n",
        "  score_avg = score_sum/4\n",
        "\n",
        "  print(student['name'], score_sum, score_avg, sep='\\t\\t')"
      ],
      "metadata": {
        "colab": {
          "base_uri": "https://localhost:8080/"
        },
        "id": "6UukAy7EEvn6",
        "outputId": "30c75154-e9cd-444f-8831-0c5894bfd66f"
      },
      "execution_count": null,
      "outputs": [
        {
          "output_type": "stream",
          "name": "stdout",
          "text": [
            "이름\t\t총점\t\t평균\n",
            "슈가\t\t368\t\t92.0\n",
            "진\t\t372\t\t93.0\n",
            "윈터\t\t386\t\t96.5\n"
          ]
        }
      ]
    },
    {
      "cell_type": "code",
      "source": [
        "# 실행 결과는 이전과 동일하다. 그럼 조금 더 변형해보자.\n",
        "# 현재 총점과 평균을 구하는 처리는 학생을 대상으로만 이루어진다. 따라서 학생을 매개변수로 받는 형태의 함수로\n",
        "# 만들면 코드가 좀 더 균형잡히게 된다.\n",
        "\n",
        "def create_student(name, korean, math, eng, sci):\n",
        "  return {\n",
        "      'name':name,\n",
        "      'korean':korean,\n",
        "      'math':math,\n",
        "      'eng':eng,\n",
        "      'sci':sci\n",
        "  }\n",
        "\n",
        "\n",
        "# 학생들의 점수를 처리하는 부분들도 함수로 만들자\n",
        "\n",
        "def student_get_sum(student):\n",
        "    return student['korean'] + student['math'] + student['eng'] + student['sci']\n",
        "\n",
        "def student_get_avg(student):\n",
        "  return student_get_sum(student)/4\n",
        "\n",
        "def student_to_string(student):\n",
        "  return '{}\\t\\t{}\\t\\t{}'.format(student['name'],student_get_sum(student), student_get_avg(student))\n",
        "\n",
        "# 학생 리스트 선언\n",
        "\n",
        "# 학생들 리스트\n",
        "students = [\n",
        "        create_student('슈가', 87, 98, 88, 95),\n",
        "        create_student('진', 90, 99, 86, 97),\n",
        "        create_student('윈터', 99, 89, 99, 99)\n",
        "]\n",
        "\n",
        "print('이름','총점','평균', sep='\\t\\t')\n",
        "for student in students:\n",
        "  print(student_to_string(student))\n",
        "\n",
        "# 실행 결과가 이전과 같지만 코드가 분리되고 있다. 학생이라는 객체와 관련된 기능이 위로 올라갔고\n",
        "# 이 객체들을 사용하는 처리들은 아래로 내려갔다. 이렇게 하면 '학생 객체와 관련된 기능'을\n",
        "# 별도의 모듈로 빼서 관리할 수도 있다.\n",
        "\n",
        "# 객체와 관련된 코드를 분리할 수 있게 하는 것이 객체 지향 프로그래밍의 핵심이다.\n",
        "# 클래스라는 구조를 사용하면 위와 같은 형태의 코드를 좀 더 쉽고 편하게 구현할 수 있다."
      ],
      "metadata": {
        "colab": {
          "base_uri": "https://localhost:8080/"
        },
        "id": "6X4dFHhHEwF7",
        "outputId": "55c1dac7-99b5-49dd-c9e7-59efba626323"
      },
      "execution_count": null,
      "outputs": [
        {
          "output_type": "stream",
          "name": "stdout",
          "text": [
            "이름\t\t총점\t\t평균\n",
            "슈가\t\t368\t\t92.0\n",
            "진\t\t372\t\t93.0\n",
            "윈터\t\t386\t\t96.5\n"
          ]
        }
      ]
    },
    {
      "cell_type": "code",
      "source": [
        "# 클래스 선언\n",
        "class Student:\n",
        "  # 생성자 constructor\n",
        "  def __init__(self, name, korean, math, eng, sci):\n",
        "    self.name = name\n",
        "    self.korean = korean\n",
        "    self.math = math\n",
        "    self.eng  = eng \n",
        "    self.sci = sci\n",
        "\n",
        "# 학생 리스트\n",
        "\n",
        "students = [\n",
        "            Student('슈가', 87, 98, 88, 95),\n",
        "            Student('진', 90, 99, 86, 97),\n",
        "            Student('카리', 99, 89, 99, 99)\n",
        "]\n",
        "\n",
        "students[0].name\n",
        "students[1].name\n",
        "students[1].math"
      ],
      "metadata": {
        "colab": {
          "base_uri": "https://localhost:8080/"
        },
        "id": "98wtX3eA-wZ4",
        "outputId": "4395d69d-a3b5-4ed9-d222-41c96feaee8a"
      },
      "execution_count": null,
      "outputs": [
        {
          "output_type": "execute_result",
          "data": {
            "text/plain": [
              "99"
            ]
          },
          "metadata": {},
          "execution_count": 18
        }
      ]
    },
    {
      "cell_type": "code",
      "source": [
        "# method 매서드\n",
        "# 클래스가 가지고 있는 함수를 매서드라고 부른다. \n",
        "# 매서드는 첫번째 매개변수로 self를 넣어야 한다. \n",
        "\n",
        "\n",
        "class Student:\n",
        "  # 생성자 constructor\n",
        "  def __init__(self, name, korean, math, eng, sci):\n",
        "    self.name = name\n",
        "    self.korean = korean\n",
        "    self.math = math\n",
        "    self.eng  = eng \n",
        "    self.sci = sci\n",
        "\n",
        "  def get_sum(self):\n",
        "    return self.korean + self.math + self.eng + self.sci\n",
        "\n",
        "  def get_avg(self):\n",
        "    return self.get_sum() / 4\n",
        "\n",
        "  def to_string(self):\n",
        "    return '{}\\t\\t{}\\t\\t{}'.format(self.name, self.get_sum(), self.get_avg())\n",
        "\n",
        "\n",
        "# 학생 리스트\n",
        "\n",
        "students = [\n",
        "            Student('슈가', 87, 98, 88, 95),\n",
        "            Student('진', 90, 99, 86, 97),\n",
        "            Student('카리', 99, 89, 99, 99)\n",
        "]\n",
        "\n",
        "print('이름','총점','평균', sep='\\t\\t')\n",
        "for student in students:\n",
        "  print(student.to_string())\n",
        "\n",
        "# 어떤 객체가 가지고 있는 어떤 함수(기능)를 명확하게 이해할 수 있으므로 매우 편리하다."
      ],
      "metadata": {
        "colab": {
          "base_uri": "https://localhost:8080/"
        },
        "id": "7CQ4id0vOZmc",
        "outputId": "e0a88df3-095b-4a51-e198-65da0cc2265f"
      },
      "execution_count": null,
      "outputs": [
        {
          "output_type": "stream",
          "name": "stdout",
          "text": [
            "이름\t\t총점\t\t평균\n",
            "슈가\t\t368\t\t92.0\n",
            "진\t\t372\t\t93.0\n",
            "카리\t\t386\t\t96.5\n"
          ]
        }
      ]
    },
    {
      "cell_type": "code",
      "source": [
        "result1 = 0\n",
        "result2 = 0\n",
        "\n",
        "# add함수는 입력받은 값을 이전에 계산한 값에 더한후 돌려주는 함수\n",
        "def add1(num):\n",
        "  global result1\n",
        "  result1 += num\n",
        "  return result1\n",
        "\n",
        "def add2(num):\n",
        "  global result2\n",
        "  result2 += num\n",
        "  return result2\n",
        "\n",
        "print(add1(3))\n",
        "print(add1(5))\n",
        "\n",
        "print(add2(2))\n",
        "print(add2(4))"
      ],
      "metadata": {
        "colab": {
          "base_uri": "https://localhost:8080/"
        },
        "id": "FsKwQe8bOZu4",
        "outputId": "60ae3c39-8380-4231-cdc6-453256bc2fae"
      },
      "execution_count": null,
      "outputs": [
        {
          "output_type": "stream",
          "name": "stdout",
          "text": [
            "3\n",
            "8\n",
            "2\n",
            "6\n"
          ]
        }
      ]
    },
    {
      "cell_type": "code",
      "source": [
        "class Cal:\n",
        "  # 생성자\n",
        "  def __init__(self):\n",
        "    self.result = 0\n",
        "\n",
        "  def add(self,num):\n",
        "    self.result += num\n",
        "    return self.result\n",
        "\n",
        "cal1 = Cal()\n",
        "cal2 = Cal()\n",
        "\n",
        "print(cal1.add(3))\n",
        "print(cal1.add(4))\n",
        "\n",
        "print(cal2.add(5))\n",
        "print(cal2.add(6))"
      ],
      "metadata": {
        "colab": {
          "base_uri": "https://localhost:8080/"
        },
        "id": "nscK-8yiOZxC",
        "outputId": "1655bcc3-f0e3-4d71-b631-e2f279fe0d91"
      },
      "execution_count": null,
      "outputs": [
        {
          "output_type": "stream",
          "name": "stdout",
          "text": [
            "3\n",
            "7\n",
            "5\n",
            "11\n"
          ]
        }
      ]
    },
    {
      "cell_type": "code",
      "source": [
        "class FourCal:\n",
        "  def setdata(self, first, second):\n",
        "    self.first = first\n",
        "    self.second = second\n",
        "\n",
        "  def add(self):\n",
        "    result = self.first + self.second\n",
        "    return result\n",
        "\n",
        "  def sub(self):\n",
        "    result = self.first - self.second\n",
        "    return result\n",
        "\n",
        "  def mul(self):\n",
        "    result = self.first * self.second\n",
        "    return result\n",
        "\n",
        "  def div(self):\n",
        "    result = self.first / self.second\n",
        "    return result\n",
        "\n",
        "a = FourCal()\n",
        "#a.setdata(4,2)\n",
        "print(a.add())\n",
        "\n",
        "print(a.mul()) \n",
        "\n",
        "print(a.div())\n",
        "\n"
      ],
      "metadata": {
        "colab": {
          "base_uri": "https://localhost:8080/",
          "height": 381
        },
        "id": "1VqGwsMYOZ1l",
        "outputId": "d0979a10-643e-4cf9-9dc4-ce8f499b659f"
      },
      "execution_count": null,
      "outputs": [
        {
          "output_type": "error",
          "ename": "AttributeError",
          "evalue": "ignored",
          "traceback": [
            "\u001b[0;31m---------------------------------------------------------------------------\u001b[0m",
            "\u001b[0;31mAttributeError\u001b[0m                            Traceback (most recent call last)",
            "\u001b[0;32m<ipython-input-11-0e6f3c520872>\u001b[0m in \u001b[0;36m<module>\u001b[0;34m()\u001b[0m\n\u001b[1;32m     22\u001b[0m \u001b[0ma\u001b[0m \u001b[0;34m=\u001b[0m \u001b[0mFourCal\u001b[0m\u001b[0;34m(\u001b[0m\u001b[0;34m)\u001b[0m\u001b[0;34m\u001b[0m\u001b[0;34m\u001b[0m\u001b[0m\n\u001b[1;32m     23\u001b[0m \u001b[0;31m#a.setdata(4,2)\u001b[0m\u001b[0;34m\u001b[0m\u001b[0;34m\u001b[0m\u001b[0;34m\u001b[0m\u001b[0m\n\u001b[0;32m---> 24\u001b[0;31m \u001b[0mprint\u001b[0m\u001b[0;34m(\u001b[0m\u001b[0ma\u001b[0m\u001b[0;34m.\u001b[0m\u001b[0madd\u001b[0m\u001b[0;34m(\u001b[0m\u001b[0;34m)\u001b[0m\u001b[0;34m)\u001b[0m\u001b[0;34m\u001b[0m\u001b[0;34m\u001b[0m\u001b[0m\n\u001b[0m\u001b[1;32m     25\u001b[0m \u001b[0;34m\u001b[0m\u001b[0m\n\u001b[1;32m     26\u001b[0m \u001b[0mprint\u001b[0m\u001b[0;34m(\u001b[0m\u001b[0ma\u001b[0m\u001b[0;34m.\u001b[0m\u001b[0mmul\u001b[0m\u001b[0;34m(\u001b[0m\u001b[0;34m)\u001b[0m\u001b[0;34m)\u001b[0m\u001b[0;34m\u001b[0m\u001b[0;34m\u001b[0m\u001b[0m\n",
            "\u001b[0;32m<ipython-input-11-0e6f3c520872>\u001b[0m in \u001b[0;36madd\u001b[0;34m(self)\u001b[0m\n\u001b[1;32m      5\u001b[0m \u001b[0;34m\u001b[0m\u001b[0m\n\u001b[1;32m      6\u001b[0m   \u001b[0;32mdef\u001b[0m \u001b[0madd\u001b[0m\u001b[0;34m(\u001b[0m\u001b[0mself\u001b[0m\u001b[0;34m)\u001b[0m\u001b[0;34m:\u001b[0m\u001b[0;34m\u001b[0m\u001b[0;34m\u001b[0m\u001b[0m\n\u001b[0;32m----> 7\u001b[0;31m     \u001b[0mresult\u001b[0m \u001b[0;34m=\u001b[0m \u001b[0mself\u001b[0m\u001b[0;34m.\u001b[0m\u001b[0mfirst\u001b[0m \u001b[0;34m+\u001b[0m \u001b[0mself\u001b[0m\u001b[0;34m.\u001b[0m\u001b[0msecond\u001b[0m\u001b[0;34m\u001b[0m\u001b[0;34m\u001b[0m\u001b[0m\n\u001b[0m\u001b[1;32m      8\u001b[0m     \u001b[0;32mreturn\u001b[0m \u001b[0mresult\u001b[0m\u001b[0;34m\u001b[0m\u001b[0;34m\u001b[0m\u001b[0m\n\u001b[1;32m      9\u001b[0m \u001b[0;34m\u001b[0m\u001b[0m\n",
            "\u001b[0;31mAttributeError\u001b[0m: 'FourCal' object has no attribute 'first'"
          ]
        }
      ]
    },
    {
      "cell_type": "code",
      "source": [
        "# 생성자 constructor 객체가 생성될 때 자동으로 호출되는 메서드를 의미한다.\n",
        "\n",
        "class FourCal:\n",
        "  # 생성자\n",
        "  def __init__(self, first, second):\n",
        "    self.first = first\n",
        "    self.second = second\n",
        "\n",
        "  # def setdata(self, first, second):\n",
        "  #   self.first = first\n",
        "  #   self.second = second\n",
        "\n",
        "  def add(self):\n",
        "    result = self.first + self.second\n",
        "    return result\n",
        "\n",
        "  def sub(self):\n",
        "    result = self.first - self.second\n",
        "    return result\n",
        "\n",
        "  def mul(self):\n",
        "    result = self.first * self.second\n",
        "    return result\n",
        "\n",
        "  def div(self):\n",
        "    result = self.first / self.second\n",
        "    return result\n",
        "\n",
        "a = FourCal(4,2)\n",
        "# a.setdata(4,2)\n",
        "print(a.add())\n",
        "\n",
        "print(a.mul()) \n",
        "\n",
        "print(a.div())\n",
        "\n"
      ],
      "metadata": {
        "colab": {
          "base_uri": "https://localhost:8080/"
        },
        "id": "jLZXeQErOZ3u",
        "outputId": "d6014cd0-527c-4a97-a97a-f5b54850cd3a"
      },
      "execution_count": null,
      "outputs": [
        {
          "output_type": "stream",
          "name": "stdout",
          "text": [
            "6\n",
            "8\n",
            "2.0\n"
          ]
        }
      ]
    },
    {
      "cell_type": "code",
      "source": [
        "# 상속  inheritance - 어떤 클래스를 만들때 다른 클래스의 기능을 물려받아 사용한다. \n",
        "\n",
        "class MoreFourCal(FourCal): # 추가할 수 있고, 그대로 쓸 수도 있다 (자식이 더 클수밖에 없다.)\n",
        "  def pow(self):\n",
        "    result = self.first ** self.second  # first * second(제곱)\n",
        "    return result\n",
        "\n",
        "a = MoreFourCal(4,2)\n",
        "a.pow()"
      ],
      "metadata": {
        "colab": {
          "base_uri": "https://localhost:8080/"
        },
        "id": "I3Rva7FgOZ6C",
        "outputId": "f4ab63d8-6165-4a67-e658-88bd11af74dd"
      },
      "execution_count": null,
      "outputs": [
        {
          "output_type": "execute_result",
          "data": {
            "text/plain": [
              "16"
            ]
          },
          "metadata": {},
          "execution_count": 15
        }
      ]
    },
    {
      "cell_type": "code",
      "source": [
        "# 메서드 오버라이딩 method overriding\n",
        "\n",
        "a = FourCal(4,0)\n",
        "a.div()"
      ],
      "metadata": {
        "colab": {
          "base_uri": "https://localhost:8080/",
          "height": 343
        },
        "id": "bBmVwDB7fjKW",
        "outputId": "0bc9be7f-4f22-45a1-9f7e-c3f80c82e9b2"
      },
      "execution_count": null,
      "outputs": [
        {
          "output_type": "error",
          "ename": "ZeroDivisionError",
          "evalue": "ignored",
          "traceback": [
            "\u001b[0;31m---------------------------------------------------------------------------\u001b[0m",
            "\u001b[0;31mZeroDivisionError\u001b[0m                         Traceback (most recent call last)",
            "\u001b[0;32m<ipython-input-16-af204d5f3fac>\u001b[0m in \u001b[0;36m<module>\u001b[0;34m()\u001b[0m\n\u001b[1;32m      2\u001b[0m \u001b[0;34m\u001b[0m\u001b[0m\n\u001b[1;32m      3\u001b[0m \u001b[0ma\u001b[0m \u001b[0;34m=\u001b[0m \u001b[0mFourCal\u001b[0m\u001b[0;34m(\u001b[0m\u001b[0;36m4\u001b[0m\u001b[0;34m,\u001b[0m\u001b[0;36m0\u001b[0m\u001b[0;34m)\u001b[0m\u001b[0;34m\u001b[0m\u001b[0;34m\u001b[0m\u001b[0m\n\u001b[0;32m----> 4\u001b[0;31m \u001b[0ma\u001b[0m\u001b[0;34m.\u001b[0m\u001b[0mdiv\u001b[0m\u001b[0;34m(\u001b[0m\u001b[0;34m)\u001b[0m\u001b[0;34m\u001b[0m\u001b[0;34m\u001b[0m\u001b[0m\n\u001b[0m",
            "\u001b[0;32m<ipython-input-13-8c80aee01bcf>\u001b[0m in \u001b[0;36mdiv\u001b[0;34m(self)\u001b[0m\n\u001b[1;32m     24\u001b[0m \u001b[0;34m\u001b[0m\u001b[0m\n\u001b[1;32m     25\u001b[0m   \u001b[0;32mdef\u001b[0m \u001b[0mdiv\u001b[0m\u001b[0;34m(\u001b[0m\u001b[0mself\u001b[0m\u001b[0;34m)\u001b[0m\u001b[0;34m:\u001b[0m\u001b[0;34m\u001b[0m\u001b[0;34m\u001b[0m\u001b[0m\n\u001b[0;32m---> 26\u001b[0;31m     \u001b[0mresult\u001b[0m \u001b[0;34m=\u001b[0m \u001b[0mself\u001b[0m\u001b[0;34m.\u001b[0m\u001b[0mfirst\u001b[0m \u001b[0;34m/\u001b[0m \u001b[0mself\u001b[0m\u001b[0;34m.\u001b[0m\u001b[0msecond\u001b[0m\u001b[0;34m\u001b[0m\u001b[0;34m\u001b[0m\u001b[0m\n\u001b[0m\u001b[1;32m     27\u001b[0m     \u001b[0;32mreturn\u001b[0m \u001b[0mresult\u001b[0m\u001b[0;34m\u001b[0m\u001b[0;34m\u001b[0m\u001b[0m\n\u001b[1;32m     28\u001b[0m \u001b[0;34m\u001b[0m\u001b[0m\n",
            "\u001b[0;31mZeroDivisionError\u001b[0m: division by zero"
          ]
        }
      ]
    },
    {
      "cell_type": "code",
      "source": [
        "# 부모와 자식이 같은것이 있을 때 자식것으로 작용된다. (자식이 더 크다.)\n",
        "\n",
        "class SafeFourCal(FourCal):\n",
        "  def div(self):\n",
        "    if self.second == 0:\n",
        "      return 0\n",
        "    else:\n",
        "      return self.first / self.second\n",
        "\n",
        "a = SafeFourCal(4,0)\n",
        "a.div()"
      ],
      "metadata": {
        "colab": {
          "base_uri": "https://localhost:8080/"
        },
        "id": "9lX5Hev3fjMP",
        "outputId": "3f82c5bf-fa4a-4cf5-d1f3-78832c64d356"
      },
      "execution_count": null,
      "outputs": [
        {
          "output_type": "execute_result",
          "data": {
            "text/plain": [
              "0"
            ]
          },
          "metadata": {},
          "execution_count": 18
        }
      ]
    },
    {
      "cell_type": "code",
      "source": [
        "# 클래스 변수\n",
        "\n",
        "# 객체변수는 다른 객체들에 영향받지 않고 독립적으로 그 값을 유지한다는 점을 이미 알아보았다. \n",
        "# 이번에는 객체변수와는 성격이 다른 클래스 변수에 대해 알아보자.\n",
        "\n",
        "class Family:\n",
        "  lastname = '김' # 클래스 변수 선언\n",
        "\n",
        "Family.lastname # 객체를 안찍고 클래스명으로 접근 -> 철학에 맞지는 않다.(잘사용x)\n",
        "\n",
        "a = Family()  # 객체를 찍고\n",
        "b = Family()\n",
        "\n",
        "print(a.lastname) # 객체로 접근\n",
        "print(b.lastname)\n",
        "\n",
        "Family.lastname = \"박\"  # 클래스 변수는 공유가 된다.\n",
        "\n",
        "print(a.lastname)\n",
        "print(b.lastname)"
      ],
      "metadata": {
        "colab": {
          "base_uri": "https://localhost:8080/"
        },
        "id": "w63iB0EkfjOI",
        "outputId": "3bf49676-a23a-4ddf-d933-920a368c8965"
      },
      "execution_count": null,
      "outputs": [
        {
          "output_type": "stream",
          "name": "stdout",
          "text": [
            "김\n",
            "김\n",
            "박\n",
            "박\n"
          ]
        }
      ]
    },
    {
      "cell_type": "code",
      "source": [
        "# 연습문제 1\n",
        "class Calculator:\n",
        "    def __init__(self):\n",
        "        self.value = 0\n",
        "\n",
        "    def add(self, val):\n",
        "        self.value += val\n",
        "\n",
        "class UpgradeCalculator(Calculator):\n",
        "    def minus(self, val):\n",
        "        self.value -= val\n",
        "\n",
        "cal = UpgradeCalculator()\n",
        "cal.add(10)\n",
        "cal.minus(7)\n",
        "\n",
        "print(cal.value) # 10에서 7을 뺀 3을 출력"
      ],
      "metadata": {
        "colab": {
          "base_uri": "https://localhost:8080/"
        },
        "id": "7foLtzQTfjQP",
        "outputId": "9c04824a-43dc-4eb7-c81b-c326da8f6cd1"
      },
      "execution_count": null,
      "outputs": [
        {
          "output_type": "stream",
          "name": "stdout",
          "text": [
            "3\n"
          ]
        }
      ]
    },
    {
      "cell_type": "code",
      "source": [
        "# 연습문제 2\n",
        "class Calculator:\n",
        "    def __init__(self):\n",
        "        self.value = 0\n",
        "\n",
        "    def add(self, val):\n",
        "        self.value += val\n",
        "\n",
        "class MaxLimitCalculator(Calculator):\n",
        "    def add(self, val):\n",
        "        self.value += val\n",
        "        if self.value > 100:\n",
        "            self.value = 100\n",
        "\n",
        "cal = MaxLimitCalculator()\n",
        "cal.add(50) # 50 더하기\n",
        "cal.add(60) # 60 더하기\n",
        "\n",
        "print(cal.value) # 100 출력\n"
      ],
      "metadata": {
        "colab": {
          "base_uri": "https://localhost:8080/"
        },
        "id": "eAIplrdufjuh",
        "outputId": "1d76386f-6f02-4fba-ce3c-2c03f218eb03"
      },
      "execution_count": null,
      "outputs": [
        {
          "output_type": "stream",
          "name": "stdout",
          "text": [
            "100\n"
          ]
        }
      ]
    },
    {
      "cell_type": "code",
      "source": [
        "# 연습문제 3\n",
        "all([1, 2, abs(-3)-3])\n",
        "#False\n",
        "#리스트의 요솟값중 0이 있기 때문에 all 내장 함수의 결과는 False가 된다."
      ],
      "metadata": {
        "colab": {
          "base_uri": "https://localhost:8080/"
        },
        "id": "DdSbz0qQoir_",
        "outputId": "b2b61a0f-921c-40ff-859f-3d9b0192afbb"
      },
      "execution_count": null,
      "outputs": [
        {
          "output_type": "execute_result",
          "data": {
            "text/plain": [
              "False"
            ]
          },
          "metadata": {},
          "execution_count": 24
        }
      ]
    },
    {
      "cell_type": "code",
      "source": [
        "# 연습문제 4\n",
        "chr(ord('a')) == 'a'\n",
        "# ord함수 : 유니코드 정수를 변환해준다.\n",
        "# True"
      ],
      "metadata": {
        "colab": {
          "base_uri": "https://localhost:8080/"
        },
        "id": "sQZkOL4Zo9ag",
        "outputId": "cc02877f-644c-4abb-9350-e0495a017ed4"
      },
      "execution_count": null,
      "outputs": [
        {
          "output_type": "execute_result",
          "data": {
            "text/plain": [
              "True"
            ]
          },
          "metadata": {},
          "execution_count": 25
        }
      ]
    }
  ]
}