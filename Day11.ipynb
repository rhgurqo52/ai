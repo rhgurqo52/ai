{
  "nbformat": 4,
  "nbformat_minor": 0,
  "metadata": {
    "colab": {
      "name": "Day11.ipynb",
      "provenance": [],
      "authorship_tag": "ABX9TyPxbSvlV1He2duDkrqtuk4g",
      "include_colab_link": true
    },
    "kernelspec": {
      "name": "python3",
      "display_name": "Python 3"
    },
    "language_info": {
      "name": "python"
    }
  },
  "cells": [
    {
      "cell_type": "markdown",
      "metadata": {
        "id": "view-in-github",
        "colab_type": "text"
      },
      "source": [
        "<a href=\"https://colab.research.google.com/github/rhgurqo52/ai/blob/main/Day11.ipynb\" target=\"_parent\"><img src=\"https://colab.research.google.com/assets/colab-badge.svg\" alt=\"Open In Colab\"/></a>"
      ]
    },
    {
      "cell_type": "code",
      "execution_count": 1,
      "metadata": {
        "colab": {
          "base_uri": "https://localhost:8080/"
        },
        "id": "utjqksnUjcGk",
        "outputId": "ef4da00c-c839-49f1-8e3d-6d130e45bb4a"
      },
      "outputs": [
        {
          "output_type": "stream",
          "name": "stdout",
          "text": [
            "First Name :Austin\n",
            "Hello Austin\n"
          ]
        }
      ],
      "source": [
        "###########################\n",
        "# General\n",
        "###########################\n",
        "\n",
        "# 001 Ask for the user's first name and display the output message\n",
        "# (output) Hello[First Name]\n",
        "# (input)  First Name :\n",
        "\n",
        "fname = input('First Name :')\n",
        "print('Hello', fname)"
      ]
    },
    {
      "cell_type": "code",
      "source": [
        "# 002 Ask for the user's first name and then as for their surname and display the output message\n",
        "# (output) Hello [First Name] [Surname]\n",
        "# (input) 'Please enter your surname :'\n",
        "# (input) 'Please enter your firstname :'\n",
        "\n",
        "sname = input('Please enter your surname :')\n",
        "fname = input('Please enter your firstname :')\n",
        "\n",
        "print('Hello', fname, sname)\n",
        "print(f'Hello {fname} {sname}')"
      ],
      "metadata": {
        "colab": {
          "base_uri": "https://localhost:8080/"
        },
        "id": "DpWSybf5kmYb",
        "outputId": "9b95c297-b66b-48c3-aa59-bc1c8eeb54e2"
      },
      "execution_count": 4,
      "outputs": [
        {
          "output_type": "stream",
          "name": "stdout",
          "text": [
            "Please enter your surname :austin\n",
            "Please enter your firstname :yoon\n",
            "Hello yoon austin\n",
            "Hello yoon austin\n"
          ]
        }
      ]
    },
    {
      "cell_type": "code",
      "source": [
        "# Ask the user to enter numbers. Add them together and display the answer as\n",
        "# (output) The total is [answer]\n",
        "# (input) 'Please enter your first number:'\n",
        "# (input) 'Please enter your second number:'\n",
        "\n",
        "no1 = int(input('Please enter your first number :'))\n",
        "no2 = int(input('Please enter your second number :'))\n",
        "\n",
        "print(f'The total is {no1 + no2}')"
      ],
      "metadata": {
        "colab": {
          "base_uri": "https://localhost:8080/"
        },
        "id": "vKt4MdXzmT5r",
        "outputId": "6588636d-3b45-47e9-da46-77cc286c466d"
      },
      "execution_count": 6,
      "outputs": [
        {
          "output_type": "stream",
          "name": "stdout",
          "text": [
            "Please enter your first number :2\n",
            "Please enter your second number :3\n",
            "The total is 5\n"
          ]
        }
      ]
    },
    {
      "cell_type": "code",
      "source": [
        "# Ask how many slices of pizza the user started with and ask how many slices they have eaten.\n",
        "# Work out how many slices they have left and display the answer in a user friendly format.\n",
        "\n",
        "# (input) 'Enter the number of slices of pizza you started with:'\n",
        "# (input) 'How many slices have you eaten?\n",
        "# (output) 'How many slices have you eaten?\n",
        "\n",
        "num1 = int(input('Enter the number of slices of pizza you started with:'))\n",
        "num2 = int(input('How many slices have you eaten?'))\n",
        "\n",
        "print(f'The answer is {num1 - num2}')"
      ],
      "metadata": {
        "colab": {
          "base_uri": "https://localhost:8080/"
        },
        "id": "Nzu77Ul-nn-D",
        "outputId": "9594f834-d159-4b13-8a00-d04644969fb4"
      },
      "execution_count": 7,
      "outputs": [
        {
          "output_type": "stream",
          "name": "stdout",
          "text": [
            "Enter the number of slices of pizza you started with:8\n",
            "How many slices have you eaten?4\n",
            "The answer is 4\n"
          ]
        }
      ]
    },
    {
      "cell_type": "code",
      "source": [
        "# Write a program that will ask for a number of days and then will show\n",
        "# how many hours, minutes and seconds are in that number of days.\n",
        "# 일수, 날짜수를 입력 받아서 그 일수 까지의 몇시간 몇분 몇초가 남았는지를 계산하여 출력하시오.\n",
        "# (input) 'Enter the number of days :'\n",
        "\n",
        "# (output) 'in [days], days there are...'\n",
        "#          [hours]hours,\n",
        "#          [minutes]minutes,\n",
        "#          [seconds]seconds\n",
        "days = int(input('Enter the number of days:'))\n",
        "print(f'in {days}, days there are...\\n\\t\\t{days * 24} hours,\\n\\t\\t{days * 24 * 60} minutes,\\n\\t\\t{days * 24 * 60} ')\n",
        "#          [hours]hours,\n",
        "#          [minutes]minutes,\n",
        "#          [seconds]seconds"
      ],
      "metadata": {
        "id": "OI-hEOZMpUyD"
      },
      "execution_count": null,
      "outputs": []
    },
    {
      "cell_type": "code",
      "source": [
        "# Task the user to enter a number over 100 and then enter a number\n",
        "# under 10 and tell them how many times the smaller number goes into the larger\n",
        "# number in a user-friendly format.\n",
        "\n",
        "# 사용자로 부터 100이 넘는 숫자를 입력받고 10미만의 숫자 하나를 입력받아\n",
        "# 작은 숫자가 큰 숫자안에 몇 번 들어가는지 사용자 친화적으로 출력하시오.\n",
        "\n",
        "# (input) 'Enter the number over 100:\n",
        "# (input) 'Enter the number under 10:\n",
        "# (output) '[smaller] goes into [larger] answer [times]'\n",
        "\n",
        "larger = int(input('Enter the number over 100 :'))\n",
        "smaller = int(input('Enter the number under 10 :'))\n",
        "\n",
        "print(f'{smaller} goes into {larger} answer {larger // smaller} times')\n",
        "print(f'{smaller} goes into {larger} answer {int(larger // smaller)} times')"
      ],
      "metadata": {
        "colab": {
          "base_uri": "https://localhost:8080/"
        },
        "id": "2oYh_TLes4Gi",
        "outputId": "1cb3f634-b0bd-47b2-999e-c44cd0ce42f9"
      },
      "execution_count": 10,
      "outputs": [
        {
          "output_type": "stream",
          "name": "stdout",
          "text": [
            "Enter the number over 100 :200\n",
            "Enter the number under 10 :8\n",
            "8 goes into 200 answer 25 times\n",
            "8 goes into 200 answer 25 times\n"
          ]
        }
      ]
    },
    {
      "cell_type": "code",
      "source": [
        "#############################\n",
        "# IF Statement\n",
        "#############################\n",
        "# Ask for two numbers. if the first one is larger than the second, display the second number first and\n",
        "# then the first number, otherwise show the first number first and then the second.\n",
        "\n",
        "# 두개의 숫자를 입력 받아 만약 첫번째 숫자가 두번째 숫자보다 크면 두번째 숫자를 먼저 출력하고\n",
        "# 첫번째 숫자를 출력한다. 그렇지 않으면 첫번째 숫자를 출력하고 두번째 숫자를 출력한다.\n",
        "\n",
        "# (input)'Enter first number :'3\n",
        "# (input)'Enter second number :'2\n",
        "# (output) 2 3\n",
        "\n",
        "no1 = int(input('Enter first number:'))\n",
        "no2 = int(input('Enter second number:'))\n",
        "\n",
        "if no1 > no2:\n",
        "  print(no2,no1)\n",
        "else:\n",
        "  print(no1, no2)"
      ],
      "metadata": {
        "colab": {
          "base_uri": "https://localhost:8080/"
        },
        "id": "1LN8xDd6zMWU",
        "outputId": "9c835d9f-b1e9-4393-b95f-01a0337f4a84"
      },
      "execution_count": 12,
      "outputs": [
        {
          "output_type": "stream",
          "name": "stdout",
          "text": [
            "Enter first number:3\n",
            "Enter second number:2\n",
            "2 3\n"
          ]
        }
      ]
    },
    {
      "cell_type": "code",
      "source": [
        "# Ask the user to enter a number between 10 and 20 if they enter a number within this range,\n",
        "# display the message 'Thank you' otherwise display the message 'incorrect number'\n",
        "\n",
        "# 10에서 20 사이의 숫자입력을 요청한다. 만약 입력된 값이 이 범위안의 숫자이면 'Thank you' 아니면\n",
        "# 'incorrect number'를 입력하라\n",
        "\n",
        "mum = int(input('Enter a value between 10 and 20 :'))\n",
        "if num >=10 and num <= 20:\n",
        "  print('Thank you')\n",
        "else:\n",
        "  print('incorrect number')\n",
        "  "
      ],
      "metadata": {
        "id": "Mr-PKaA72G-r"
      },
      "execution_count": null,
      "outputs": []
    },
    {
      "cell_type": "code",
      "source": [
        "# Ask the user to enter their favorite color. if they enter 'red', 'RED' or 'Red'\n",
        "# display the message 'i like red too', otherwise display the message\n",
        "# 'i dont like [color], i prefer red'.\n",
        "\n",
        "fc = input(\"favorite color:\")\n",
        "if fc in [\"red\",\"RED\",\"Red\"]:\n",
        "  print(\"i like it too\")\n",
        "else:\n",
        "  print(f\"i dont like {fc}, i prefer red.\")"
      ],
      "metadata": {
        "id": "_cX03EeV4bZr"
      },
      "execution_count": null,
      "outputs": []
    },
    {
      "cell_type": "code",
      "source": [
        "# Ask the user if it is raining and convert their answer to lower case\n",
        "# 사용자에게 지금 비가오고 있는지 묻고 그 대답을 소문자로 변환하여\n",
        "# so it doesnt matter what case they type it in. if they answer 'yes',\n",
        "# 대소문자 입력한 값에 상관없도록한다. 만약 'yes'를 입력하면\n",
        "# ask if is windy. if they answer 'yes' to this second question,\n",
        "# 바람이 부는지 다시 묻는다. 두번째 질문도 'yes'를 입력하면\n",
        "# display the answer 'it is too windy for an umbrella',otherwise\n",
        "# 'it is too windy for an umbrella' 출력한다. 그렇지 않으면\n",
        "# display the message 'Take an umbrella'. if they did not answer yes to the first question,\n",
        "# 'take an umbrella'. 출력한다. 첫번째 질문에 yes가 아니면\n",
        "# display the answer 'Enjoy your day'\n",
        "# 'Enjoy your day'.를 출력한다.\n",
        "\n",
        "# (input) is it raining?\n",
        "# (input) 'take an umbrella'\n",
        "\n",
        "#(output) 'it is too windy for an umbrella'\n",
        "#(output) 'Take an umbrella'\n",
        "#(output) 'Enjoy your day'.\n",
        "\n",
        "raining = input('is it raining?')\n",
        "raining = str.lower(raining)\n",
        "\n",
        "if raining == 'yes':\n",
        "  windy = input('is it windy?')\n",
        "  windy = str.lower(windy)\n",
        "  if windy == 'yes':\n",
        "    print('it is too windy for an umbrella')\n",
        "  else:\n",
        "    print('Take an umbrella')\n",
        "else: \n",
        "  print('Enjoy your day')\n",
        "  "
      ],
      "metadata": {
        "colab": {
          "base_uri": "https://localhost:8080/"
        },
        "id": "qOBx0BP4zOej",
        "outputId": "4ea2a89c-223c-4b68-f5c2-6f1850a3d7e1"
      },
      "execution_count": 17,
      "outputs": [
        {
          "output_type": "stream",
          "name": "stdout",
          "text": [
            "is it raining?yes\n",
            "is it windy?yes\n",
            "it is too windy for an umbrella\n"
          ]
        }
      ]
    },
    {
      "cell_type": "code",
      "source": [
        "# Ask the user's age. if they are 18 or over, display the message 'You can vote',\n",
        "# if they are aged 17, display the message 'You can learn to drive',\n",
        "# if they are 16, display the message 'You can by a lpttery ticket',\n",
        "# if they are under 16, display the message 'You can go Trick or Treating'\n",
        "\n",
        "# (input) what is your age?\n",
        "\n",
        "# (output) 'You can vote',\n",
        "           # 'You can learn to drive',\n",
        "           # 'You can by a lottert ticket',\n",
        "           # 'You can go Trick or Treating'\n",
        "\n",
        "age = int(input('What is your age?'))\n",
        "\n",
        "if age >= 18:\n",
        "  print('You can vote')\n",
        "elif age == 17:\n",
        "  print('You can learn to drive')\n",
        "elif age == 16:\n",
        "  print('You can by a lottery ticket')\n",
        "else:\n",
        "  print('You can go Trick or Treating')"
      ],
      "metadata": {
        "id": "aP_gkl-GCEC0"
      },
      "execution_count": null,
      "outputs": []
    },
    {
      "cell_type": "code",
      "source": [
        "#################\n",
        "# String\n",
        "#################\n",
        "\n",
        "# Ask the user to enter their name and then display the length of their name !\n",
        "\n",
        "name = input('name ?')\n",
        "print(len(name))\n"
      ],
      "metadata": {
        "colab": {
          "base_uri": "https://localhost:8080/"
        },
        "id": "5O0u_fsUExbD",
        "outputId": "4b649806-7ae4-4709-9308-4fcc819c7ec9"
      },
      "execution_count": 20,
      "outputs": [
        {
          "output_type": "stream",
          "name": "stdout",
          "text": [
            "name ?kohyukbae\n",
            "9\n"
          ]
        }
      ]
    },
    {
      "cell_type": "code",
      "source": [
        "# Ask the user to enter their first name and lastname in lower case.\n",
        "# Change the case to title case and join them together.\n",
        "# Display the finished result.\n",
        "\n",
        "fname = input('Enter your first name in lowercase :')\n",
        "lname = input('Enter your last name in lowercase:')\n",
        "\n",
        "fname = fname.title()\n",
        "lname = lname.title()\n",
        "\n",
        "name = fname + \" \" +lname\n",
        "print(name)"
      ],
      "metadata": {
        "colab": {
          "base_uri": "https://localhost:8080/"
        },
        "id": "a2Wm_yg3EyZP",
        "outputId": "26b92f2f-eccb-4f68-ef73-d597141c1b54"
      },
      "execution_count": 24,
      "outputs": [
        {
          "output_type": "stream",
          "name": "stdout",
          "text": [
            "Enter your first name in lowercase :austin\n",
            "Enter your last name in lowercase:yoon\n",
            "Austin Yoon\n"
          ]
        }
      ]
    },
    {
      "cell_type": "code",
      "source": [
        "# Ask the user to enter their first name. if the length of their first name is under five characters,\n",
        "# Ask them to enter their last name and join them together (without a space) and\n",
        "# display the name in upper case. if the length of the first name is five or more characters,\n",
        "# display their first name in lower case.\n",
        "\n",
        "fname = input('First name ? >>>')\n",
        "\n",
        "if len(fname) < 5:\n",
        "  lname = input('Last name ? >>>')\n",
        "  name = fname + lname\n",
        "  print(name.upper())\n",
        "else:\n",
        "  print(fname.lower())"
      ],
      "metadata": {
        "colab": {
          "base_uri": "https://localhost:8080/"
        },
        "id": "5o75uAn2NLIm",
        "outputId": "7ea04d1f-79af-4b9f-bdb6-0442771df4f9"
      },
      "execution_count": 25,
      "outputs": [
        {
          "output_type": "stream",
          "name": "stdout",
          "text": [
            "First name ? >>>aus\n",
            "Last name ? >>>yoon\n",
            "AUSYOON\n"
          ]
        }
      ]
    },
    {
      "cell_type": "code",
      "source": [
        "# Pig Latin takes the first character of a word.\n",
        "# moves it to the end of the word and adds on an 'ay'.\n",
        "# If a word begins with a vowel you just add 'way' to the end.\n",
        "#                  ['a','e','i','o','u']\n",
        "\n",
        "# 피그 라틴은 단어의 첫 글자를 가져와서 단어의 끝으로 이동하고 마지막에 'ay'를 추가한다.\n",
        "# 만약 단어가 모음으로 시작하면 단어의 끝에 그냥 'way'를 붙인다.\n",
        "\n",
        "# For example, pig becomes igpay, banana becomes ananabay, and aadvark becomes\n",
        "# aaddvarkway. Create a program that will ask the user to enter a word and\n",
        "# change it into Pig Latin. Make user the new word is displayed in lower case.\n",
        "\n",
        "word = input('Please enter a word:')\n",
        "first = word[0]\n",
        "length = len(word)\n",
        "rest = word[1:length]\n",
        "\n",
        "if first not in ['a','e','i','o','u']:\n",
        "  newword = rest + first + 'ay'\n",
        "else:\n",
        "  newword = word + 'way'\n",
        "\n",
        "print(newword.lower())\n"
      ],
      "metadata": {
        "colab": {
          "base_uri": "https://localhost:8080/"
        },
        "id": "YY51R4jaPVik",
        "outputId": "23b93235-c8dc-4a3b-a5b8-24694d3fbedf"
      },
      "execution_count": 26,
      "outputs": [
        {
          "output_type": "stream",
          "name": "stdout",
          "text": [
            "Please enter a word:pig\n",
            "pigway\n"
          ]
        }
      ]
    }
  ]
}