{
  "nbformat": 4,
  "nbformat_minor": 0,
  "metadata": {
    "colab": {
      "name": "Day16",
      "provenance": [],
      "collapsed_sections": [],
      "include_colab_link": true
    },
    "kernelspec": {
      "name": "python3",
      "display_name": "Python 3"
    },
    "language_info": {
      "name": "python"
    }
  },
  "cells": [
    {
      "cell_type": "markdown",
      "metadata": {
        "id": "view-in-github",
        "colab_type": "text"
      },
      "source": [
        "<a href=\"https://colab.research.google.com/github/rhgurqo52/ai/blob/main/day16.ipynb\" target=\"_parent\"><img src=\"https://colab.research.google.com/assets/colab-badge.svg\" alt=\"Open In Colab\"/></a>"
      ]
    },
    {
      "cell_type": "code",
      "source": [
        "# Fibonacci\n",
        "\n",
        "# 1 일반식\n",
        "\n",
        "def fib(n): # n 번째의 피보나치 수열 값을 찾는 함수\n",
        "  a,b = 1,1 \n",
        "  if n == 1 or n == 2:  # 1번째와 2번째의 값은 1이다.\n",
        "    return 1\n",
        "  for i in range(1,n):  # 1번째부터 n번째 까지\n",
        "    a,b = b, a+b\n",
        "    print(a,b)  # 1 2   2 3   3 5\n",
        "  return a\n",
        "\n",
        "fib(4)"
      ],
      "metadata": {
        "colab": {
          "base_uri": "https://localhost:8080/"
        },
        "id": "y6iAIb6IM64U",
        "outputId": "7711638b-d0f2-42fc-f391-75fc522db78e"
      },
      "execution_count": null,
      "outputs": [
        {
          "output_type": "stream",
          "name": "stdout",
          "text": [
            "1 2\n",
            "2 3\n",
            "3 5\n"
          ]
        },
        {
          "output_type": "execute_result",
          "data": {
            "text/plain": [
              "3"
            ]
          },
          "metadata": {},
          "execution_count": 4
        }
      ]
    },
    {
      "cell_type": "code",
      "source": [
        "# 2 재귀 Recursive\n",
        "\n",
        "def fib(n): # n 번째의 피보나치 수열 값을 찾는 함수\n",
        "  if n == 1 or n == 2:  # 1번째와 2번째의 값은 1이다.\n",
        "    return 1\n",
        "  else:\n",
        "    return fib(n-1) + fib(n-2)\n",
        "\n",
        "fib(5)"
      ],
      "metadata": {
        "colab": {
          "base_uri": "https://localhost:8080/"
        },
        "id": "SdDALR9aQH45",
        "outputId": "13d2b073-e652-4bd8-8087-52c1d5ceb2f8"
      },
      "execution_count": null,
      "outputs": [
        {
          "output_type": "execute_result",
          "data": {
            "text/plain": [
              "5"
            ]
          },
          "metadata": {},
          "execution_count": 4
        }
      ]
    },
    {
      "cell_type": "code",
      "source": [
        "# 피보나치 수열의 값을 n번째까지 리스트로 전부 출력하세요\n",
        "\n",
        "def fib(n):\n",
        "  res = [1,1]\n",
        "  if n <= 2:\n",
        "    return 1\n",
        "  else:\n",
        "    for i in range(2,n):\n",
        "      res.append(res[i-1] + res[i-2])\n",
        "  return res\n",
        "\n",
        "n = int(input('>>>'))\n",
        "fib(n)"
      ],
      "metadata": {
        "colab": {
          "base_uri": "https://localhost:8080/"
        },
        "id": "fyBSqDs9TLDD",
        "outputId": "015ff59c-ed54-4835-d2e1-00eb17101a31"
      },
      "execution_count": null,
      "outputs": [
        {
          "name": "stdout",
          "output_type": "stream",
          "text": [
            ">>>5\n"
          ]
        },
        {
          "output_type": "execute_result",
          "data": {
            "text/plain": [
              "[1, 1, 2, 3, 5]"
            ]
          },
          "metadata": {},
          "execution_count": 6
        }
      ]
    },
    {
      "cell_type": "code",
      "source": [
        "def fib(n) :\n",
        "  fib_list = []\n",
        "  a, b = 1, 1\n",
        "  for i in range(1, n+1) :\n",
        "    fib_list.append(a)\n",
        "    a, b = b, a + b\n",
        "  print(fib_list)\n",
        "\n",
        "n = int(input('>>>'))\n",
        "fib(n)"
      ],
      "metadata": {
        "colab": {
          "base_uri": "https://localhost:8080/"
        },
        "id": "_yAvgGphWYBP",
        "outputId": "b817811c-dbde-49e5-c5d9-af3f94191d55"
      },
      "execution_count": null,
      "outputs": [
        {
          "output_type": "stream",
          "name": "stdout",
          "text": [
            ">>>5\n",
            "[1, 1, 2, 3, 5]\n"
          ]
        }
      ]
    },
    {
      "cell_type": "code",
      "source": [
        "#3 람다\n",
        "# lambda 매개변수 : 표현식\n",
        "# fib = lambda n: 1(True)     if n<=2(조건식)     else fib(n-1) + fib(n-2)(False)\n",
        "fib = lambda n: 1     if n<=2     else fib(n-1) + fib(n-2)\n",
        "\n",
        "fib(5)"
      ],
      "metadata": {
        "colab": {
          "base_uri": "https://localhost:8080/"
        },
        "id": "49jF3PnUSLPh",
        "outputId": "6b85cb72-6db2-4d1d-ce67-aa67a6bf8d34"
      },
      "execution_count": null,
      "outputs": [
        {
          "output_type": "execute_result",
          "data": {
            "text/plain": [
              "5"
            ]
          },
          "metadata": {},
          "execution_count": 8
        }
      ]
    },
    {
      "cell_type": "code",
      "execution_count": null,
      "metadata": {
        "colab": {
          "base_uri": "https://localhost:8080/"
        },
        "id": "ww7hHDFTMSNk",
        "outputId": "786f02f1-314f-4fbd-d58e-3c5bad162ad2"
      },
      "outputs": [
        {
          "output_type": "execute_result",
          "data": {
            "text/plain": [
              "100"
            ]
          },
          "metadata": {},
          "execution_count": 9
        }
      ],
      "source": [
        "# 2D lists 2차원 리스트   # VS pandas's dataframe\n",
        "#             math    korean\n",
        "# austin      90      80 \n",
        "# rick        80      85\n",
        "# andy        100     70\n",
        "\n",
        "grade = [[90,80],[80,85],[100,70]]\n",
        "\n",
        "grade[2][0]"
      ]
    },
    {
      "cell_type": "code",
      "source": [
        "# Ask the user to enter the name, age and shoe size for four people.\n",
        "# Ask for the name of one of the people in the list and\n",
        "# display their age and shoe size.\n",
        "\n",
        "dict = {}\n",
        "\n",
        "for i in range(0,4):\n",
        "  name = input('name>>>')\n",
        "  age = input('age>>>')\n",
        "  shoe = input('shoe>>>')\n",
        "  dict[name] = {'Age':age, 'Shoe':shoe}\n",
        "\n",
        "who = input('Enter a name : ')\n",
        "print(dict[who])"
      ],
      "metadata": {
        "colab": {
          "base_uri": "https://localhost:8080/"
        },
        "id": "Mq2mcwq4ZtK_",
        "outputId": "ad75a1f3-8e1c-4b84-ade2-b5a55663993c"
      },
      "execution_count": null,
      "outputs": [
        {
          "output_type": "stream",
          "name": "stdout",
          "text": [
            "name>>>john\n",
            "age>>>20\n",
            "shoe>>>280\n",
            "name>>>austin\n",
            "age>>>20\n",
            "shoe>>>290\n",
            "name>>>tom\n",
            "age>>>25\n",
            "shoe>>>260\n",
            "name>>>april\n",
            "age>>>22\n",
            "shoe>>>240\n",
            "Enter a name : austin\n",
            "{'Age': '20', 'Shoe': '290'}\n"
          ]
        }
      ]
    },
    {
      "cell_type": "code",
      "source": [
        "# After gathering the two names, ages and shoe sizes, \n",
        "# ask the user to enter the name of the person they want to remove from the dict.\n",
        "# Delete this row from the data and display the other rows on separate lines.\n",
        "\n",
        "dict = {}\n",
        "\n",
        "for i in range(0,2):\n",
        "  name = input('Enter name : ')\n",
        "  age = input('Enter age : ')\n",
        "  shoe = input('Enter shoe : ')\n",
        "  dict[name]={'Age':age,'Shoe':shoe}\n",
        "\n",
        "getrid = input('Who do you want to remove from the dict?')\n",
        "del dict[getrid]\n",
        "\n",
        "for each in dict:\n",
        "  print(each, dict[each]['Age'], dict[each]['Shoe'])"
      ],
      "metadata": {
        "colab": {
          "base_uri": "https://localhost:8080/"
        },
        "id": "3I4b0UmiZtOq",
        "outputId": "1c067e56-fd3d-40d1-b08d-9c66f0c78fa7"
      },
      "execution_count": null,
      "outputs": [
        {
          "output_type": "stream",
          "name": "stdout",
          "text": [
            "Enter name : jieun\n",
            "Enter age : 24\n",
            "Enter shoe : 240\n",
            "Enter name : soo\n",
            "Enter age : 25\n",
            "Enter shoe : 250\n",
            "Who do you want to remove from the dict?jieun\n",
            "soo 25 250\n"
          ]
        }
      ]
    },
    {
      "cell_type": "code",
      "source": [
        "# Reading and Writing to a File\n",
        "\n",
        "# It is all very well being able to define a list, make changes and add new data,\n",
        "# but if the next time the program is run it returns to the original data and your\n",
        "# changes are lost then it is not a lot of use. Therefore, It is sometimes necessary \n",
        "# to save the data outside of the program and this way the data can be stored,\n",
        "# along with any changes that are made.\n",
        "\n",
        "# write\n",
        "file = open('Countries.txt','w')\n",
        "file.write('Italy\\n')\n",
        "file.write('Germany\\n')\n",
        "file.write('Spain\\n')\n",
        "file.close()"
      ],
      "metadata": {
        "id": "2FhHpAyygN1q"
      },
      "execution_count": null,
      "outputs": []
    },
    {
      "cell_type": "code",
      "source": [
        "# read\n",
        "file = open('Countries.txt','r')\n",
        "print(file.read())"
      ],
      "metadata": {
        "colab": {
          "base_uri": "https://localhost:8080/"
        },
        "id": "McNBOmBJhdnF",
        "outputId": "5b4bda2d-a55a-470f-ef72-9a83808687c4"
      },
      "execution_count": null,
      "outputs": [
        {
          "output_type": "stream",
          "name": "stdout",
          "text": [
            "Italy\n",
            "Germany\n",
            "Spain\n",
            "France\n",
            "\n"
          ]
        }
      ]
    },
    {
      "cell_type": "code",
      "source": [
        "file = open('Countries.txt', 'a')\n",
        "file.write('France\\n')\n",
        "file.close()"
      ],
      "metadata": {
        "id": "OZRE-soshdpn"
      },
      "execution_count": null,
      "outputs": []
    },
    {
      "cell_type": "code",
      "source": [
        "# If the select 1, ask the user to enter a school subject and save it to a new file called\n",
        "# 'Subject.txt'. It should overwrite any existing file with a new file.\n",
        "\n",
        "# If they select 2, display the contents of the 'Subject.txt' file\n",
        "\n",
        "# if they select 3, ask the user to enter a new subject and sav e it to the file \n",
        "#and then display the entire contents of the file.\n",
        "\n",
        "# Run the program several times to test the options.\n",
        "##############################################################\n",
        "# Fantastic work, saving data to external files is an important programming skill.\n",
        "\n",
        "file = open('Subject.txt','w')\n",
        "file.close()\n",
        "\n",
        "\n",
        "ask = int(input('1) Create a new file\\n2)Display the file\\n3)Add a new item to the file'))\n",
        "\n",
        "\n",
        "if ask > 3:\n",
        "  print('error')\n",
        "\n",
        "elif ask == 1:\n",
        "  sub = input('학교 과목 입력하시오 >>')\n",
        "  file = open('Subject.txt','a')\n",
        "  file.write(sub)\n",
        "  file.close()\n",
        "elif ask == 2:  \n",
        "  file = open('Subject.txt','r')\n",
        "  print(file.read())\n",
        "elif ask == 3:\n",
        "  sub = input('학교 과목 입력하시오 >>')\n",
        "  file = open('Subject.txt','a')\n",
        "  file.write(sub)\n",
        "  file.close()\n",
        "  file = open('Subject.txt','r')\n",
        "  print(file.read())\n",
        "\n",
        "\n"
      ],
      "metadata": {
        "colab": {
          "base_uri": "https://localhost:8080/"
        },
        "id": "5wTcJseUiXb5",
        "outputId": "fdb5d30e-02c6-4712-d9e9-f15a32514acd"
      },
      "execution_count": null,
      "outputs": [
        {
          "name": "stdout",
          "output_type": "stream",
          "text": [
            "1) Create a new file\n",
            "2)Display the file\n",
            "3)Add a new item to the file1\n",
            "학교 과목 입력하시오 >>수학\n"
          ]
        }
      ]
    },
    {
      "cell_type": "code",
      "source": [
        "print(\"1, Create a new file\")\n",
        "print(\"2, Display the file\")\n",
        "print(\"3, Add a new item to the file\")\n",
        "n=int(input(\"Make a selection 1,2 or 3 : \"))\n",
        "if n !=1 and n !=2 and n !=3:\n",
        "  print(\"Error\")\n",
        "elif n==1:\n",
        "  ss = input(\"school subject : \")\n",
        "  f=open('Subject.txt','w')\n",
        "  f.write(ss)\n",
        "  f.close()\n",
        "elif n==2:\n",
        "  try:\n",
        "    f=open('Subject.txt','r')\n",
        "    print(f.read())\n",
        "  except:\n",
        "    print(\"Error\")\n",
        "elif n==3:\n",
        "  ns = input(\"new subject : \")\n",
        "  f=open('Subject.txt','a')\n",
        "  f.write(ns)\n",
        "  f.close"
      ],
      "metadata": {
        "id": "u2zTqoQdmKlG"
      },
      "execution_count": null,
      "outputs": []
    }
  ]
}