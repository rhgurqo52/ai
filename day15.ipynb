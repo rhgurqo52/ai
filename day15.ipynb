{
  "nbformat": 4,
  "nbformat_minor": 0,
  "metadata": {
    "colab": {
      "name": "Day15",
      "provenance": [],
      "collapsed_sections": [],
      "include_colab_link": true
    },
    "kernelspec": {
      "name": "python3",
      "display_name": "Python 3"
    },
    "language_info": {
      "name": "python"
    }
  },
  "cells": [
    {
      "cell_type": "markdown",
      "metadata": {
        "id": "view-in-github",
        "colab_type": "text"
      },
      "source": [
        "<a href=\"https://colab.research.google.com/github/rhgurqo52/ai/blob/main/day15.ipynb\" target=\"_parent\"><img src=\"https://colab.research.google.com/assets/colab-badge.svg\" alt=\"Open In Colab\"/></a>"
      ]
    },
    {
      "cell_type": "code",
      "execution_count": null,
      "metadata": {
        "colab": {
          "base_uri": "https://localhost:8080/"
        },
        "id": "AS9ZKqlEDh34",
        "outputId": "54431a5e-75ac-4793-c072-5567c6515620"
      },
      "outputs": [
        {
          "output_type": "stream",
          "name": "stdout",
          "text": [
            "나혼산\n",
            "복면가왕\n",
            "런닝맨\n",
            "전참시\n",
            "Enter a number betwwen 0 and 31\n",
            "Enter another TV show무한 도전\n",
            "나혼산\n",
            "무한 도전\n",
            "복면가왕\n",
            "런닝맨\n",
            "전참시\n"
          ]
        }
      ],
      "source": [
        "# Create a list containing the titles of four TV programmes and display them on separate lilnes.\n",
        "# Ask the user to enter another show and a position they want it inserted into the list\n",
        "# Display the list again, showing all five TV programmes in their new positions.\n",
        "\n",
        "tv = ['나혼산','복면가왕','런닝맨','전참시']\n",
        "for i in tv:\n",
        "  print(i)\n",
        "idx = int(input('Enter a number betwwen 0 and 3'))\n",
        "name = input('Enter another TV show')\n",
        "tv.insert(idx,name)\n",
        "for i in tv:\n",
        "  print(i)"
      ]
    },
    {
      "cell_type": "code",
      "source": [
        "# Create an empty list called 'nums' Ask the user to enter numbers.\n",
        "# After each number is entered, add it to the end of the nums list and display the list.\n",
        "# Once they have entered three numbers, ask them if they still want the last number they entered saved.\n",
        "# If they say 'no' remove the last item from the list. Display the list of numbers.\n",
        "\n",
        "nums = []\n",
        "\n",
        "count = 0\n",
        "\n",
        "while count < 3:\n",
        "  num = int(input('Enter a number'))\n",
        "  nums.append(num)\n",
        "  print(nums)\n",
        "  count+=1\n",
        "\n",
        "lastnum = input('Do you want the last number saved (y/n)')\n",
        "if lastnum == 'n':\n",
        "  nums.pop()\n",
        "  # remove 제거하면 값을 제거 하기때문에 중복된 값이 있을때 앞에 값을 삭제하게 된다.\n",
        "  # pop()을 사용하여 제거하면 마지막 항목을 삭제하게 된다.\n",
        "print(nums)"
      ],
      "metadata": {
        "colab": {
          "base_uri": "https://localhost:8080/"
        },
        "id": "0IqVaA7ODodl",
        "outputId": "6c30a23a-3793-4c1b-a87f-c97aa7da1484"
      },
      "execution_count": null,
      "outputs": [
        {
          "output_type": "stream",
          "name": "stdout",
          "text": [
            "Enter a number2\n",
            "[2]\n",
            "Enter a number3\n",
            "[2, 3]\n",
            "Enter a number2\n",
            "[2, 3, 2]\n",
            "Do you want the last number saved (y/n)n\n",
            "[2, 3]\n"
          ]
        }
      ]
    },
    {
      "cell_type": "code",
      "source": [
        "# More String Manipulation 다양한 문자열 처리\n",
        "\n",
        "# Here we have variable called name which is assigned the value 'Simon'\n",
        "\n",
        "name = 'Simon'\n",
        "\n",
        "# 'Simon' can be thought of as a sequence of individual characters and each character in that string\n",
        "# can be identified by its index\n",
        "\n",
        "# Note how string a start indexing from 0 and not 1\n",
        "# if the string had a space in it, the space would also be counted as a character"
      ],
      "metadata": {
        "id": "EkfCoGyqDogH"
      },
      "execution_count": null,
      "outputs": []
    },
    {
      "cell_type": "code",
      "source": [
        "msg = 'HELLo'\n",
        "if msg.isupper(): # islower()\n",
        "  print('Uppercase')\n",
        "else:\n",
        "  print('This is not in uppercase')"
      ],
      "metadata": {
        "colab": {
          "base_uri": "https://localhost:8080/"
        },
        "id": "ahv_e5pAPK1h",
        "outputId": "3ea26130-10eb-4543-bfc7-b810d416e487"
      },
      "execution_count": null,
      "outputs": [
        {
          "output_type": "stream",
          "name": "stdout",
          "text": [
            "This is not in uppercase\n"
          ]
        }
      ]
    },
    {
      "cell_type": "code",
      "source": [
        "msg = 'Hello'\n",
        "for letter in msg:\n",
        "  print(letter, end='')"
      ],
      "metadata": {
        "colab": {
          "base_uri": "https://localhost:8080/"
        },
        "id": "D_Cpl_LRPK3z",
        "outputId": "e25e80a3-3289-4bc1-87cf-070f5aeb5a3e"
      },
      "execution_count": null,
      "outputs": [
        {
          "output_type": "stream",
          "name": "stdout",
          "text": [
            "Hello"
          ]
        }
      ]
    },
    {
      "cell_type": "code",
      "source": [
        "# Ask the user to type in a word in upper case. If they type in it lower case, ask them to try again.\n",
        "# Keep repeating this until they type in a message all in uppercase.\n",
        "\n",
        "msg = input('Enter a message in uppercase : ')\n",
        "\n",
        "again = True\n",
        "while again == True:\n",
        "  if msg.isupper():\n",
        "    print('Thank you')\n",
        "    again = False\n",
        "  else:\n",
        "    print('Try again')\n",
        "    msg = input('Enter a message in uppercase : ')"
      ],
      "metadata": {
        "colab": {
          "base_uri": "https://localhost:8080/"
        },
        "id": "Bk_PBxbRQ0j9",
        "outputId": "3e5384b8-8565-419d-a8cb-49050bf653ed"
      },
      "execution_count": null,
      "outputs": [
        {
          "output_type": "stream",
          "name": "stdout",
          "text": [
            "Enter a message in uppercase : asd\n",
            "Try again\n",
            "Enter a message in uppercase : asdASD\n",
            "Try again\n",
            "Enter a message in uppercase : ASD\n",
            "Thank you\n"
          ]
        }
      ]
    },
    {
      "cell_type": "code",
      "source": [
        "msg = input('Enter a message in uppercase : ')\n",
        "\n",
        "while True:\n",
        "  if msg.isupper():\n",
        "    print('Thank you')\n",
        "    break\n",
        "  else:\n",
        "    print('Try again')\n",
        "    msg = input('Enter a message in uppercase : ')"
      ],
      "metadata": {
        "colab": {
          "base_uri": "https://localhost:8080/"
        },
        "id": "sXjd9OzOQ0l-",
        "outputId": "318fc996-f30d-473d-961e-0d5750ea27f1"
      },
      "execution_count": null,
      "outputs": [
        {
          "output_type": "stream",
          "name": "stdout",
          "text": [
            "Enter a message in uppercase : asd\n",
            "Try again\n",
            "Enter a message in uppercase : asdASD\n",
            "Try again\n",
            "Enter a message in uppercase : ASD\n",
            "Thank you\n"
          ]
        }
      ]
    },
    {
      "cell_type": "code",
      "source": [
        "# Ask the user to enter a new password.\n",
        "# Ask them to enter it again. If the two passwords match,\n",
        "# display 'thank you'. If the letters are correct but in the wrong case,\n",
        "# display the message 'They must be in the same case',\n",
        "# otherwise display the message 'Incorrect'.\n",
        "\n",
        "# 유저에게 새로운 비번을 입력하라고 묻고, 한번 더 입력하라고 요청한다. \n",
        "# 입력한 두 개의 비번이 일치하면 'thank you'라고 출력한다. \n",
        "# 만약 입력한 문자는 서로 일치하지만 대소문자가 틀리다면 \n",
        "# 'They must be in the same case'라고 출력한다. 문자가 일치하지 않다면\n",
        "# 'Incorrect'메시지를 출력한다. \n",
        "\n",
        "pw = input(\"Enter password: \")\n",
        "again = input(\"Enter password again: \")\n",
        "if pw == again:\n",
        "    print(\"Thank you.\")\n",
        "elif pw.lower() == again.lower():\n",
        "    print(\"they must be in the same case\")\n",
        "else:\n",
        "    print(\"Incorrect.\")"
      ],
      "metadata": {
        "colab": {
          "base_uri": "https://localhost:8080/"
        },
        "id": "6qIefsafUH-J",
        "outputId": "05efd43d-7ead-446d-9616-62386ca9ec00"
      },
      "execution_count": null,
      "outputs": [
        {
          "output_type": "stream",
          "name": "stdout",
          "text": [
            "Enter password: ASD\n",
            "Enter password again: asd\n",
            "they must be in the same case\n"
          ]
        }
      ]
    },
    {
      "cell_type": "code",
      "source": [
        ""
      ],
      "metadata": {
        "id": "liVPw9kQYrod"
      },
      "execution_count": null,
      "outputs": []
    }
  ]
}