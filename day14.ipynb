{
  "nbformat": 4,
  "nbformat_minor": 0,
  "metadata": {
    "colab": {
      "name": "Day14",
      "provenance": [],
      "collapsed_sections": [],
      "include_colab_link": true
    },
    "kernelspec": {
      "name": "python3",
      "display_name": "Python 3"
    },
    "language_info": {
      "name": "python"
    }
  },
  "cells": [
    {
      "cell_type": "markdown",
      "metadata": {
        "id": "view-in-github",
        "colab_type": "text"
      },
      "source": [
        "<a href=\"https://colab.research.google.com/github/rhgurqo52/ai/blob/main/day14.ipynb\" target=\"_parent\"><img src=\"https://colab.research.google.com/assets/colab-badge.svg\" alt=\"Open In Colab\"/></a>"
      ]
    },
    {
      "cell_type": "code",
      "execution_count": null,
      "metadata": {
        "colab": {
          "base_uri": "https://localhost:8080/"
        },
        "id": "RIxy7VNaAtH4",
        "outputId": "d4914a61-d52b-4ad4-baf6-96a5ca1e5485"
      },
      "outputs": [
        {
          "output_type": "stream",
          "name": "stdout",
          "text": [
            "cherry\n",
            "2\n"
          ]
        }
      ],
      "source": [
        "# Tuple, List and Dict\n",
        "\n",
        "# There are several ways that collections of data canbe stored as a single item\n",
        "# There of the simpler ones are\n",
        "# 1. Tuple\n",
        "# 2. List\n",
        "# 3. Dict\n",
        "#(4).Set\n",
        "\n",
        "# Tuple : Once a tuple is defined you cannot change what is stored in it (immutable)\n",
        "# ()\n",
        "# List :  The contents of a list canbe changed while the program is runnung and lists\n",
        "#         are one of the most common wqys to store a collection of data in Python\n",
        "#         (mutable)\n",
        "# []\n",
        "# Dict : can also be changed while the progarm is running. mutable\n",
        "#        Each value is given an index or key you can define to help identify\n",
        "#        each piece of data\n",
        "# {}\n",
        "fruit_tuple = ('apple','banana','cherry','orange')\n",
        "print(fruit_tuple[2])\n",
        "print(fruit_tuple.index('cherry'))\n",
        "# del fruit_tuple[1] -> 삭제 불가능"
      ]
    },
    {
      "cell_type": "code",
      "source": [
        "names_list = ['John','Tim','Sam']\n",
        "del names_list[1]\n",
        "print(names_list)"
      ],
      "metadata": {
        "colab": {
          "base_uri": "https://localhost:8080/"
        },
        "id": "cniDb7wKDRNS",
        "outputId": "9df89860-bde1-452a-ddbb-9c8cb464c55c"
      },
      "execution_count": null,
      "outputs": [
        {
          "output_type": "stream",
          "name": "stdout",
          "text": [
            "['John', 'Sam']\n"
          ]
        }
      ]
    },
    {
      "cell_type": "code",
      "source": [
        "names_list.append(input('Add a name : '))\n",
        "names_list"
      ],
      "metadata": {
        "colab": {
          "base_uri": "https://localhost:8080/"
        },
        "id": "aTxks0zRA-RH",
        "outputId": "8288607a-40de-4c3d-e9d8-871bd48832e0"
      },
      "execution_count": null,
      "outputs": [
        {
          "name": "stdout",
          "output_type": "stream",
          "text": [
            "Add a name : Jieun\n"
          ]
        },
        {
          "output_type": "execute_result",
          "data": {
            "text/plain": [
              "['John', 'Sam', 'Jieun']"
            ]
          },
          "metadata": {},
          "execution_count": 10
        }
      ]
    },
    {
      "cell_type": "code",
      "source": [
        "names_list.sort() #.sort() -> 메소드\n",
        "names_list\n",
        "\n",
        "# Sort [list] into alphabetical order and saves the list in the new order"
      ],
      "metadata": {
        "colab": {
          "base_uri": "https://localhost:8080/"
        },
        "id": "wvdh_D9DEK51",
        "outputId": "e6eab865-b677-4b38-d36a-b05faaeb18bf"
      },
      "execution_count": null,
      "outputs": [
        {
          "output_type": "execute_result",
          "data": {
            "text/plain": [
              "['Jieun', 'John', 'Sam']"
            ]
          },
          "metadata": {},
          "execution_count": 11
        }
      ]
    },
    {
      "cell_type": "code",
      "source": [
        "names_list = ['John', 'Sam', 'Jieun']\n",
        "print(sorted(names_list))\n",
        "print(names_list)\n",
        "\n",
        "# Display names_list in alphabetical order but does not change the order of the\n",
        "# original list"
      ],
      "metadata": {
        "colab": {
          "base_uri": "https://localhost:8080/"
        },
        "id": "Ds8A15iRES4L",
        "outputId": "cb098aa5-517a-4b98-ba25-8b4ee2c6d0eb"
      },
      "execution_count": null,
      "outputs": [
        {
          "output_type": "stream",
          "name": "stdout",
          "text": [
            "['Jieun', 'John', 'Sam']\n",
            "['John', 'Sam', 'Jieun']\n"
          ]
        }
      ]
    },
    {
      "cell_type": "code",
      "source": [
        "color = {1:'red',2:'blue',3:'green'}\n",
        "\n",
        "# Creats a dict called 'color', where each item is assigned an index of your choosing\n",
        "\n",
        "print(color[2])"
      ],
      "metadata": {
        "colab": {
          "base_uri": "https://localhost:8080/"
        },
        "id": "dksIpBFSES6V",
        "outputId": "1a17b667-44b4-43c6-f280-beade03a76ef"
      },
      "execution_count": null,
      "outputs": [
        {
          "output_type": "stream",
          "name": "stdout",
          "text": [
            "blue\n"
          ]
        }
      ]
    },
    {
      "cell_type": "code",
      "source": [
        "# Quiz 1\n",
        "\n",
        "# Create a tuple containing the names of five countries and display the whole tuple\n",
        "# Ask the user to enter on of the countries that have been shown to them and then \n",
        "# display the index number (position in the list), { NO CHINA }\n",
        "\n",
        "country = ('korea','japan','usa','uk','Vietnam')\n",
        "\n",
        "c = input('please enter one of the countries from above : ')\n",
        "\n",
        "print(f'{c} has index number {country.index(c)}')"
      ],
      "metadata": {
        "colab": {
          "base_uri": "https://localhost:8080/"
        },
        "id": "kdXLW7WYES8u",
        "outputId": "7e083570-2e3c-419e-c1fc-3038e683436a"
      },
      "execution_count": null,
      "outputs": [
        {
          "output_type": "stream",
          "name": "stdout",
          "text": [
            "please enter one of the countries from above : Vietnam\n",
            "Vietnam has index number 4\n"
          ]
        }
      ]
    },
    {
      "cell_type": "code",
      "source": [
        "# Add to program above, to ask the user to enter a number and display \n",
        "# the country in that position.\n",
        "\n",
        "country = ('korea','japan','usa','uk','Vietnam')\n",
        "\n",
        "num = int(input('please enter a number between 0 and 4 : '))\n",
        "\n",
        "print(country[num])"
      ],
      "metadata": {
        "colab": {
          "base_uri": "https://localhost:8080/"
        },
        "id": "J5sRD3h3IpnM",
        "outputId": "bf23e364-4023-41c7-d41f-c7693f2a1fbc"
      },
      "execution_count": null,
      "outputs": [
        {
          "output_type": "stream",
          "name": "stdout",
          "text": [
            "please enter a number between 0 and 4 : 3\n",
            "uk\n"
          ]
        }
      ]
    },
    {
      "cell_type": "code",
      "source": [
        "# Create a list of two sports. Ask the user what their favourite sport is \n",
        "# and add this to the end of the list. Sort the list and display it.\n",
        "\n",
        "sports = ['Football','baseball']\n",
        "\n",
        "sports.append(input('What is your favorite sport? : '))\n",
        "sports.sort()\n",
        "print(sports)"
      ],
      "metadata": {
        "colab": {
          "base_uri": "https://localhost:8080/"
        },
        "id": "zRMZaWcoIppE",
        "outputId": "f0c64291-c996-4c6d-9114-d82fd5732eac"
      },
      "execution_count": null,
      "outputs": [
        {
          "output_type": "stream",
          "name": "stdout",
          "text": [
            "Add : TKD\n",
            "['Football', 'TKD', 'baseball']\n"
          ]
        }
      ]
    },
    {
      "cell_type": "code",
      "source": [
        "# Ask the user to enter four of their favourite foods and store them \n",
        "# in a dict so that they are indexed with number starting from 1.\n",
        "# Display the dict in full, showing the index number and the item.\n",
        "# Ask them which they want to get rid of and remove it from the list\n",
        "# Sort the remaining data(values) and display.\n",
        "\n",
        "\n",
        "food_dict = {}\n",
        "food1 = input('Enter a food you like : ')\n",
        "food_dict[1] = food1\n",
        "food2 = input('Enter a food you like : ')\n",
        "food_dict[2] = food2\n",
        "food3 = input('Enter a food you like : ')\n",
        "food_dict[3] = food3\n",
        "food4 = input('Enter a food you like : ')\n",
        "food_dict[4] = food4\n",
        "\n",
        "\n",
        "print(food_dict)\n",
        "dislike = int(input('Which of these do you want to get rid of? '))\n",
        "del food_dict[dislike]\n",
        "print(sorted(food_dict.values()))"
      ],
      "metadata": {
        "colab": {
          "base_uri": "https://localhost:8080/"
        },
        "id": "pR48YY1FLnOb",
        "outputId": "80abd8e1-f560-4673-cfea-c69a5dbd0998"
      },
      "execution_count": null,
      "outputs": [
        {
          "output_type": "stream",
          "name": "stdout",
          "text": [
            "Enter a food you like : chicken\n",
            "Enter a food you like : ramen\n",
            "Enter a food you like : pizza\n",
            "Enter a food you like : maratang\n",
            "{1: 'chicken', 2: 'ramen', 3: 'pizza', 4: 'maratang'}\n",
            "Which of these do you want to get rid of? 3\n",
            "['chicken', 'maratang', 'ramen']\n"
          ]
        }
      ]
    },
    {
      "cell_type": "code",
      "source": [
        "dict={}\n",
        "for i in range(1,5):\n",
        "    a=input(\"ur fave food? : \")\n",
        "    dict[i]=a\n",
        "print(dict)\n",
        "r=int(input(\"what u wanna remove it? : \"))\n",
        "del dict[r]\n",
        "print(sorted(list(dict.values())))\n"
      ],
      "metadata": {
        "colab": {
          "base_uri": "https://localhost:8080/"
        },
        "id": "euSPuAI4LnQn",
        "outputId": "3281f2e1-98c2-4f0a-bfff-f489d0a22bdf"
      },
      "execution_count": null,
      "outputs": [
        {
          "output_type": "stream",
          "name": "stdout",
          "text": [
            "ur fave food? : pizza\n",
            "ur fave food? : mara\n",
            "ur fave food? : ham\n",
            "ur fave food? : ramen\n",
            "{1: 'pizza', 2: 'mara', 3: 'ham', 4: 'ramen'}\n",
            "what u wanna remove it? : 3\n",
            "['mara', 'pizza', 'ramen']\n"
          ]
        }
      ]
    },
    {
      "cell_type": "code",
      "source": [
        ""
      ],
      "metadata": {
        "id": "o_BWZnwAIprN"
      },
      "execution_count": null,
      "outputs": []
    }
  ]
}